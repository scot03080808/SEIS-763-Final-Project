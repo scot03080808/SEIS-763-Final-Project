{
  "cells": [
    {
      "cell_type": "markdown",
      "metadata": {
        "id": "bGKXxkEz-PgF"
      },
      "source": [
        "# SEIS-763 Group Project include group member names with an introduction explaining what problem we are solving (NEEDS REVISION)\n",
        "- We are a state program that provides low interest loans to low income family.\n",
        "- The maximum amount that we are allowed to approve on a loan up to $300,000\n",
        "- Default rates tend to be high and we have a limited budget, therefore our goal is to maximize the amount allocated to our agency by predicting home values based on a multitude of different predictors in order to best mitigate loss if a home goes into default and maximize purchasing power to help as many families as possible.\n"
      ]
    },
    {
      "cell_type": "code",
      "execution_count": 1,
      "metadata": {
        "colab": {
          "base_uri": "https://localhost:8080/"
        },
        "id": "sMWBqYt3-aIU",
        "outputId": "51add577-63f3-4011-f38c-ff93c41b3ea9"
      },
      "outputs": [
        {
          "output_type": "stream",
          "name": "stdout",
          "text": [
            "Mounted at /content/drive\n"
          ]
        }
      ],
      "source": [
        "from google.colab import drive\n",
        "drive.mount('/content/drive')"
      ]
    },
    {
      "cell_type": "markdown",
      "metadata": {
        "id": "_4QkMGGMYIgx"
      },
      "source": [
        "## Step 1. Data Cleaning/Imputation\n",
        "\n"
      ]
    },
    {
      "cell_type": "code",
      "execution_count": 2,
      "metadata": {
        "id": "nWU2qF_q-nFO"
      },
      "outputs": [],
      "source": [
        "import pandas as pd\n",
        "import numpy as np\n",
        "from sklearn.model_selection import train_test_split\n",
        "from sklearn.preprocessing import StandardScaler, OneHotEncoder\n",
        "from sklearn.compose import ColumnTransformer\n",
        "from sklearn.pipeline import Pipeline\n",
        "from sklearn.svm import SVC\n",
        "from sklearn.metrics import classification_report\n",
        "import plotly.express as px\n",
        "import matplotlib.pyplot as plt\n",
        "import seaborn as sns\n",
        "import pandas as pd\n",
        "import numpy as np\n",
        "from sklearn.impute import KNNImputer\n",
        "from sklearn.preprocessing import OrdinalEncoder"
      ]
    },
    {
      "cell_type": "code",
      "execution_count": 3,
      "metadata": {
        "id": "GVrEW6owJArp"
      },
      "outputs": [],
      "source": [
        "# Load data\n",
        "file_path_train = '/content/drive/MyDrive/train.csv'\n",
        "file_path_test = '/content/drive/MyDrive/test.csv'\n",
        "df1 = pd.read_csv(file_path_train)\n",
        "df2 = pd.read_csv(file_path_test)\n",
        "\n",
        "# Combine (stack) them vertically, one after the other\n",
        "df = pd.concat([df1, df2], ignore_index=True)"
      ]
    },
    {
      "cell_type": "code",
      "execution_count": 4,
      "metadata": {
        "colab": {
          "base_uri": "https://localhost:8080/"
        },
        "id": "hy_LjfQrJMqR",
        "outputId": "3f2c2984-a6f9-4792-8aa2-c39746011770"
      },
      "outputs": [
        {
          "output_type": "stream",
          "name": "stdout",
          "text": [
            "Number of rows in the dataset: (2919, 81)\n",
            "   Id  MSSubClass MSZoning  LotFrontage  LotArea Street Alley LotShape  \\\n",
            "0   1          60       RL         65.0     8450   Pave   NaN      Reg   \n",
            "1   2          20       RL         80.0     9600   Pave   NaN      Reg   \n",
            "2   3          60       RL         68.0    11250   Pave   NaN      IR1   \n",
            "3   4          70       RL         60.0     9550   Pave   NaN      IR1   \n",
            "4   5          60       RL         84.0    14260   Pave   NaN      IR1   \n",
            "\n",
            "  LandContour Utilities  ... PoolArea PoolQC Fence MiscFeature MiscVal MoSold  \\\n",
            "0         Lvl    AllPub  ...        0    NaN   NaN         NaN       0      2   \n",
            "1         Lvl    AllPub  ...        0    NaN   NaN         NaN       0      5   \n",
            "2         Lvl    AllPub  ...        0    NaN   NaN         NaN       0      9   \n",
            "3         Lvl    AllPub  ...        0    NaN   NaN         NaN       0      2   \n",
            "4         Lvl    AllPub  ...        0    NaN   NaN         NaN       0     12   \n",
            "\n",
            "  YrSold  SaleType  SaleCondition  SalePrice  \n",
            "0   2008        WD         Normal   208500.0  \n",
            "1   2007        WD         Normal   181500.0  \n",
            "2   2008        WD         Normal   223500.0  \n",
            "3   2006        WD        Abnorml   140000.0  \n",
            "4   2008        WD         Normal   250000.0  \n",
            "\n",
            "[5 rows x 81 columns]\n"
          ]
        }
      ],
      "source": [
        "num_rows = df.shape\n",
        "print(f\"Number of rows in the dataset: {num_rows}\")\n",
        "print(df.head())"
      ]
    },
    {
      "cell_type": "code",
      "execution_count": 5,
      "metadata": {
        "colab": {
          "base_uri": "https://localhost:8080/"
        },
        "id": "JILIYLh1JTqa",
        "outputId": "6b19dd22-fb17-4d89-8d29-09aaf4ec9bbf"
      },
      "outputs": [
        {
          "output_type": "stream",
          "name": "stdout",
          "text": [
            "After dropping duplicates: The number of rows:  (2919, 81)\n"
          ]
        }
      ],
      "source": [
        "# Drop duplicates\n",
        "df = df.drop_duplicates()\n",
        "print(\"After dropping duplicates: The number of rows: \", df.shape)"
      ]
    },
    {
      "cell_type": "code",
      "execution_count": 6,
      "metadata": {
        "colab": {
          "base_uri": "https://localhost:8080/"
        },
        "id": "8T3HODTIJZV1",
        "outputId": "cd484eba-7031-4ea3-d503-9f60669d30c1"
      },
      "outputs": [
        {
          "output_type": "stream",
          "name": "stdout",
          "text": [
            "Total missing values before imputation: 17166\n"
          ]
        }
      ],
      "source": [
        "# Show initial missing data\n",
        "total_missing = df.isnull().sum().sum()\n",
        "print(f\"Total missing values before imputation: {total_missing}\")"
      ]
    },
    {
      "cell_type": "markdown",
      "metadata": {
        "id": "wdcPbIWTKLwT"
      },
      "source": [
        "### Drop any rows that are missing a 'SalePrice' value prior to classification (David-Start)"
      ]
    },
    {
      "cell_type": "code",
      "execution_count": 7,
      "metadata": {
        "colab": {
          "base_uri": "https://localhost:8080/"
        },
        "id": "GFpddzC6KOzQ",
        "outputId": "556c8a88-f0e7-4ff0-dbe7-f7c718799fbd"
      },
      "outputs": [
        {
          "output_type": "stream",
          "name": "stdout",
          "text": [
            "(1460, 81)\n"
          ]
        }
      ],
      "source": [
        "df = df.dropna(subset=['SalePrice'])\n",
        "print(df.shape)\n"
      ]
    },
    {
      "cell_type": "code",
      "execution_count": 8,
      "metadata": {
        "id": "qFWZ29E-JclQ"
      },
      "outputs": [],
      "source": [
        "# Separate numeric & categorical\n",
        "numeric_cols = df.select_dtypes(include=['float64', 'int64']).columns\n",
        "cat_cols = df.select_dtypes(include=['object']).columns"
      ]
    },
    {
      "cell_type": "code",
      "execution_count": 9,
      "metadata": {
        "id": "bjCZ1G0YJs-Y"
      },
      "outputs": [],
      "source": [
        "# Ordinal encode categorical data (KNN needs numeric input)\n",
        "encoder = OrdinalEncoder()\n",
        "encoded_cats = encoder.fit_transform(df[cat_cols])\n",
        "\n",
        "# Combine numeric and encoded categorical\n",
        "combined = np.hstack((df[numeric_cols], encoded_cats))"
      ]
    },
    {
      "cell_type": "code",
      "execution_count": 10,
      "metadata": {
        "colab": {
          "base_uri": "https://localhost:8080/",
          "height": 726
        },
        "id": "348RiOi6X8aa",
        "outputId": "2641a86d-894f-4faf-e565-b6325edc82db"
      },
      "outputs": [
        {
          "output_type": "display_data",
          "data": {
            "text/plain": [
              "<Figure size 1000x500 with 1 Axes>"
            ],
            "image/png": "[encoded data removed]"
          },
          "metadata": {}
        },
        {
          "output_type": "display_data",
          "data": {
            "text/plain": [
              "<Figure size 1000x200 with 1 Axes>"
            ],
            "image/png": "[encoded data removed]"
          },
          "metadata": {}
        }
      ],
      "source": [
        "# Plot a histogram of SalePrice\n",
        "plt.figure(figsize=(10, 5))\n",
        "plt.hist(df['SalePrice'], bins=50, edgecolor='black')\n",
        "plt.title('Histogram of SalePrice')\n",
        "plt.xlabel('SalePrice')\n",
        "plt.ylabel('Number of Homes')\n",
        "plt.grid(axis='y', alpha=0.5)\n",
        "plt.show()\n",
        "\n",
        "# Plot a boxplot of SalePrice\n",
        "plt.figure(figsize=(10, 2))\n",
        "plt.boxplot(df['SalePrice'], vert=False, patch_artist=True)\n",
        "plt.title('Boxplot of SalePrice')\n",
        "plt.xlabel('SalePrice')\n",
        "plt.show()\n"
      ]
    },
    {
      "cell_type": "markdown",
      "metadata": {
        "id": "t7tLld28JhCm"
      },
      "source": [
        "### Address Missing Values\n",
        "- Addpy KNN Imputer"
      ]
    },
    {
      "cell_type": "code",
      "execution_count": 11,
      "metadata": {
        "colab": {
          "base_uri": "https://localhost:8080/"
        },
        "id": "lJnJFnBVJ5rA",
        "outputId": "5fd25b04-f9cd-41f7-e58d-aee87b4b00c5"
      },
      "outputs": [
        {
          "output_type": "stream",
          "name": "stdout",
          "text": [
            "Total missing values after imputation: 0\n",
            "KNN numeric + categorical imputation completed.\n"
          ]
        }
      ],
      "source": [
        "# Apply KNN imputer\n",
        "imputer = KNNImputer(n_neighbors=5)\n",
        "imputed = imputer.fit_transform(combined)\n",
        "\n",
        "# Reconstruct dataframe\n",
        "imputed_numeric = pd.DataFrame(imputed[:, :len(numeric_cols)], columns=numeric_cols)\n",
        "imputed_cats = pd.DataFrame(imputed[:, len(numeric_cols):], columns=cat_cols)\n",
        "\n",
        "# Decode categorical back to original labels\n",
        "decoded_cats = pd.DataFrame(encoder.inverse_transform(imputed_cats), columns=cat_cols)\n",
        "\n",
        "# Combine numeric and categorical\n",
        "df_imputed = pd.concat([imputed_numeric, decoded_cats], axis=1)\n",
        "\n",
        "# Verify\n",
        "print(f\"Total missing values after imputation: {df_imputed.isnull().sum().sum()}\")\n",
        "print(\"KNN numeric + categorical imputation completed.\")"
      ]
    },
    {
      "cell_type": "markdown",
      "metadata": {
        "id": "yjssTByXKTpc"
      },
      "source": [
        "### Create a Histogram and a Boxplot of the SalePrice using the dataset to determine the price range of our classes."
      ]
    },
    {
      "cell_type": "markdown",
      "metadata": {
        "id": "zSodxYmvYGhZ"
      },
      "source": [
        "# Step 4. Remove outliers (IQR, Z-score, etc.) + Step 6. Apply Classification to the target\n",
        "\n"
      ]
    },
    {
      "cell_type": "markdown",
      "metadata": {
        "id": "TaO8Emmr-9J3"
      },
      "source": [
        "### Remove Outliers on our Target (SalePrice) Based on Low Interest Government Financing to Low Income Families"
      ]
    },
    {
      "cell_type": "code",
      "execution_count": 12,
      "metadata": {
        "colab": {
          "base_uri": "https://localhost:8080/"
        },
        "id": "RKfJbmln_Djk",
        "outputId": "c1ac38f0-b5fd-41d6-f3d5-dcb77be42ca5"
      },
      "outputs": [
        {
          "output_type": "stream",
          "name": "stdout",
          "text": [
            "lower: 3937.5 upper: 300000.0\n",
            "{'SalePrice': (np.float64(3937.5), np.float64(300000.0))}\n"
          ]
        }
      ],
      "source": [
        "outliers = {}\n",
        "q1 = df_imputed['SalePrice'].quantile(0.25)\n",
        "q3 = df_imputed['SalePrice'].quantile(0.75)\n",
        "iqr = q3 - q1\n",
        "lower = q1 - 1.5 * iqr\n",
        "upper = q3 + 1.5 * iqr\n",
        "\n",
        "# Set upper limit to $300,000 due to Organizational Business Rules\n",
        "mortgage_upper = np.float64(300000)\n",
        "outliers['SalePrice'] = (lower, mortgage_upper)\n",
        "print(f'lower: {lower} upper: {mortgage_upper}')\n",
        "print(outliers)"
      ]
    },
    {
      "cell_type": "markdown",
      "metadata": {
        "id": "tn8o8-jQ_EWt"
      },
      "source": [
        "## Use Classification on the SalePrice column (target) over predicting SalePrice Directly we have determined provides the following:"
      ]
    },
    {
      "cell_type": "markdown",
      "metadata": {
        "id": "p-3OwKdn_HYZ"
      },
      "source": [
        "### Risk Management:\n",
        "- Price bins clearly correlate to risk and affordability, helping loan officers make better lending decisions.\n",
        "- Predicting a range is easier and more actionable than pinpointing exact home price, especially given limited data (1,500 records)."
      ]
    },
    {
      "cell_type": "markdown",
      "metadata": {
        "id": "R2xQ-_U__Kca"
      },
      "source": [
        "### Interpretability:\n",
        "- Price categories are easily explained to non-technical stakeholders (loan officers, regulators, buyers)."
      ]
    },
    {
      "cell_type": "markdown",
      "metadata": {
        "id": "OJxXWpWy_ONL"
      },
      "source": [
        "### Robustness and Stability\n",
        "- Predicting precise numeric prices is harder due to high variability and data noise.\n",
        "- Classification stabilizes predictions into clearly actionable bins."
      ]
    },
    {
      "cell_type": "code",
      "execution_count": 13,
      "metadata": {
        "id": "zccgcaacrR-I"
      },
      "outputs": [],
      "source": [
        "min_price = lower\n",
        "max_price = mortgage_upper   # Or use df['SalePrice'].max() for the max in your data\n",
        "step = 15000"
      ]
    },
    {
      "cell_type": "code",
      "execution_count": 14,
      "metadata": {
        "colab": {
          "base_uri": "https://localhost:8080/"
        },
        "id": "Qvu-cklN_oC-",
        "outputId": "8d388722-0c6d-443e-9731-cc2f5519a7ad"
      },
      "outputs": [
        {
          "output_type": "stream",
          "name": "stdout",
          "text": [
            "PriceCategory\n",
            "$0–$15,000             0\n",
            "$15,000–$30,000        0\n",
            "$30,000–$45,000        5\n",
            "$45,000–$60,000        9\n",
            "$60,000–$75,000       11\n",
            "$75,000–$90,000       57\n",
            "$90,000–$105,000      58\n",
            "$105,000–$120,000    129\n",
            "$120,000–$135,000    168\n",
            "$135,000–$150,000    182\n",
            "$150,000–$165,000    133\n",
            "$165,000–$180,000    144\n",
            "$180,000–$195,000    110\n",
            "$195,000–$210,000     74\n",
            "$210,000–$225,000     67\n",
            "$225,000–$240,000     68\n",
            "$240,000–$255,000     38\n",
            "$255,000–$270,000     40\n",
            "$270,000–$285,000     36\n",
            "$285,000–$300,000     16\n",
            "Name: count, dtype: int64\n"
          ]
        }
      ],
      "source": [
        "# Step 1: Create meaningful, fixed bins (apply classification on the SalePrice every 15k between lower and upper range or our trimmed dataset)\n",
        "min_price = 0\n",
        "max_price = 300000   # Or use df['SalePrice'].max() for the max in your data\n",
        "step = 15000\n",
        "\n",
        "# Create bin edges\n",
        "bins = np.arange(min_price, max_price + step, step)  # e.g., 0, 15k, 30k, ..., 300k\n",
        "\n",
        "# Create labels for each bin\n",
        "labels = [f'${bins[i]:,.0f}–${bins[i+1]:,.0f}' for i in range(len(bins)-1)]\n",
        "\n",
        "df_imputed['PriceCategory'] = pd.cut(df['SalePrice'], bins=bins, labels=labels, include_lowest=True)\n",
        "\n",
        "# Display the counts per category after filtering\n",
        "print(df_imputed['PriceCategory'].value_counts().sort_index())"
      ]
    },
    {
      "cell_type": "code",
      "execution_count": 15,
      "metadata": {
        "colab": {
          "base_uri": "https://localhost:8080/",
          "height": 507
        },
        "id": "037O33JKLbTJ",
        "outputId": "be0fffa6-5b01-4505-add5-c2e9d1a0e4a2"
      },
      "outputs": [
        {
          "output_type": "display_data",
          "data": {
            "text/plain": [
              "<Figure size 800x500 with 1 Axes>"
            ],
            "image/png": "[encoded data removed]"
          },
          "metadata": {}
        }
      ],
      "source": [
        "import pandas as pd\n",
        "import matplotlib.pyplot as plt\n",
        "bin_counts = df_imputed['PriceCategory'].value_counts().sort_index()\n",
        "\n",
        "plt.figure(figsize=(8, 5))\n",
        "bin_counts.plot(kind='barh')  # <-- horizontal bars\n",
        "plt.ylabel('Price Bin')       # Bin labels on Y axis\n",
        "plt.xlabel('Number of Records')\n",
        "plt.title('Number of Records per Price Bin')\n",
        "plt.tight_layout()\n",
        "plt.show()"
      ]
    },
    {
      "cell_type": "code",
      "execution_count": 16,
      "metadata": {
        "colab": {
          "base_uri": "https://localhost:8080/"
        },
        "id": "R_eF0-IsLeii",
        "outputId": "88502e29-abe7-4d54-db96-fca166ec9dd6"
      },
      "outputs": [
        {
          "output_type": "stream",
          "name": "stdout",
          "text": [
            "PriceCategory\n",
            "$0–$15,000             0\n",
            "$15,000–$30,000        0\n",
            "$30,000–$45,000        5\n",
            "$45,000–$60,000        9\n",
            "$60,000–$75,000       11\n",
            "$75,000–$90,000       57\n",
            "$90,000–$105,000      58\n",
            "$105,000–$120,000    129\n",
            "$120,000–$135,000    168\n",
            "$135,000–$150,000    182\n",
            "$150,000–$165,000    133\n",
            "$165,000–$180,000    144\n",
            "$180,000–$195,000    110\n",
            "$195,000–$210,000     74\n",
            "$210,000–$225,000     67\n",
            "$225,000–$240,000     68\n",
            "$240,000–$255,000     38\n",
            "$255,000–$270,000     40\n",
            "$270,000–$285,000     36\n",
            "$285,000–$300,000     16\n",
            "Name: count, dtype: int64\n"
          ]
        }
      ],
      "source": [
        "# Identify categorical columns to encode (excluding PriceCategory)\n",
        "categorical_cols_to_encode = df_imputed.select_dtypes(include=['object', 'category']).columns.tolist()\n",
        "if 'PriceCategory' in categorical_cols_to_encode:\n",
        "    categorical_cols_to_encode.remove('PriceCategory')\n",
        "\n",
        "# Apply one-hot encoding to the selected categorical columns\n",
        "df_imputed = pd.get_dummies(df_imputed, columns=categorical_cols_to_encode, prefix='PC')\n",
        "\n",
        "# Quickly check the distribution of the target variable BEFORE one-hot encoding it\n",
        "print(df_imputed['PriceCategory'].value_counts().sort_index())"
      ]
    },
    {
      "cell_type": "code",
      "execution_count": 17,
      "metadata": {
        "colab": {
          "base_uri": "https://localhost:8080/"
        },
        "id": "uJPkKYgWSiiy",
        "outputId": "9204be72-6719-4ddb-987b-17691aa1287b"
      },
      "outputs": [
        {
          "output_type": "stream",
          "name": "stdout",
          "text": [
            "Attempting to revert PriceCategory one-hot encoding if it occurred.\n",
            "(1460, 290)\n",
            "PriceCategory\n",
            "$0–$15,000             0\n",
            "$15,000–$30,000        0\n",
            "$30,000–$45,000        5\n",
            "$45,000–$60,000        9\n",
            "$60,000–$75,000       11\n",
            "$75,000–$90,000       57\n",
            "$90,000–$105,000      58\n",
            "$105,000–$120,000    129\n",
            "$120,000–$135,000    168\n",
            "$135,000–$150,000    182\n",
            "$150,000–$165,000    133\n",
            "$165,000–$180,000    144\n",
            "$180,000–$195,000    110\n",
            "$195,000–$210,000     74\n",
            "$210,000–$225,000     67\n",
            "$225,000–$240,000     68\n",
            "$240,000–$255,000     38\n",
            "$255,000–$270,000     40\n",
            "$270,000–$285,000     36\n",
            "$285,000–$300,000     16\n",
            "Name: count, dtype: int64\n"
          ]
        }
      ],
      "source": [
        "# Create a copy of the DataFrame to work with for filtering and subsequent steps.\n",
        "# df_imputed is already filtered for NaN PriceCategory in cell Qvu-cklN_oC-\n",
        "df_filtered = df_imputed.copy()\n",
        "\n",
        "# Ensure PriceCategory is present for subsequent steps, assuming it was created earlier\n",
        "if 'PriceCategory' not in df_filtered.columns:\n",
        "    print(\"Warning: 'PriceCategory' column not found. Please ensure it was created in a previous step.\")\n",
        "\n",
        "# Check if the dummy columns for PriceCategory exist and revert if necessary\n",
        "pc_dummy_cols = [col for col in df_filtered.columns if col.startswith('PC_')]\n",
        "if pc_dummy_cols:\n",
        "    # A better approach is to fix the one-hot encoding in HY8rdCVXVYZV directly.\n",
        "    print(\"Attempting to revert PriceCategory one-hot encoding if it occurred.\")\n",
        "\n",
        "    # I will rely on fixing HY8rdCVXVYZV to not one-hot encode PriceCategory.\n",
        "    # For now, just ensure df_filtered is a copy and the problematic filtering is removed.\n",
        "    pass # The fix is primarily removing the filtering line.\n",
        "\n",
        "\n",
        "print(df_filtered.shape)\n",
        "\n",
        "print(df_imputed['PriceCategory'].value_counts().sort_index())"
      ]
    },
    {
      "cell_type": "markdown",
      "metadata": {
        "id": "GTpK2KxGLjeN"
      },
      "source": [
        "\n",
        "### Classifying the SalePrice Colummn: Complete"
      ]
    },
    {
      "cell_type": "markdown",
      "metadata": {
        "id": "k44rtikDLs-B"
      },
      "source": [
        "## Continue cleaning the data:\n",
        "- Standardize the Data\n",
        "- One-hot-Encode the Categorical Predictors"
      ]
    },
    {
      "cell_type": "markdown",
      "metadata": {
        "id": "4OZ4kbofLKYD"
      },
      "source": [
        "### One-hot encode other categorical variables, but NOT PriceCategory as it's the target"
      ]
    },
    {
      "cell_type": "code",
      "execution_count": 18,
      "metadata": {
        "colab": {
          "base_uri": "https://localhost:8080/"
        },
        "id": "W9Rye_m_MEVS",
        "outputId": "ba4d2a26-3f54-40bd-8416-6c3ee0d34ad6"
      },
      "outputs": [
        {
          "output_type": "stream",
          "name": "stdout",
          "text": [
            "['Id', 'MSSubClass', 'LotFrontage', 'LotArea', 'OverallQual', 'OverallCond', 'YearBuilt', 'YearRemodAdd', 'MasVnrArea', 'BsmtFinSF1', 'BsmtFinSF2', 'BsmtUnfSF', 'TotalBsmtSF', '1stFlrSF', '2ndFlrSF', 'LowQualFinSF', 'GrLivArea', 'BsmtFullBath', 'BsmtHalfBath', 'FullBath', 'HalfBath', 'BedroomAbvGr', 'KitchenAbvGr', 'TotRmsAbvGrd', 'Fireplaces', 'GarageYrBlt', 'GarageCars', 'GarageArea', 'WoodDeckSF', 'OpenPorchSF', 'EnclosedPorch', '3SsnPorch', 'ScreenPorch', 'PoolArea', 'MiscVal', 'MoSold', 'YrSold', 'SalePrice']\n",
            "[]\n",
            "(1460, 290)\n",
            "         Id  MSSubClass  LotFrontage   LotArea  OverallQual  OverallCond  \\\n",
            "0 -1.730865    0.073375    -0.246391 -0.207142     0.651479    -0.517200   \n",
            "1 -1.728492   -0.872563     0.396475 -0.091886    -0.071836     2.179628   \n",
            "2 -1.726120    0.073375    -0.117818  0.073480     0.651479    -0.517200   \n",
            "3 -1.723747    0.309859    -0.460679 -0.096897     0.651479    -0.517200   \n",
            "4 -1.721374    0.073375     0.567905  0.375148     1.374795    -0.517200   \n",
            "\n",
            "   YearBuilt  YearRemodAdd  MasVnrArea  BsmtFinSF1  ...  PC_ConLw  PC_New  \\\n",
            "0   1.050994      0.878668    0.509089    0.575425  ...     False   False   \n",
            "1   0.156734     -0.429577   -0.574987    1.171992  ...     False   False   \n",
            "2   0.984752      0.830215    0.321035    0.092907  ...     False   False   \n",
            "3  -1.863632     -0.720298   -0.574987   -0.499274  ...     False   False   \n",
            "4   0.951632      0.733308    1.360864    0.463568  ...     False   False   \n",
            "\n",
            "   PC_Oth  PC_WD  PC_Abnorml  PC_AdjLand  PC_Alloca  PC_Family  PC_Normal  \\\n",
            "0   False   True       False       False      False      False       True   \n",
            "1   False   True       False       False      False      False       True   \n",
            "2   False   True       False       False      False      False       True   \n",
            "3   False   True        True       False      False      False      False   \n",
            "4   False   True       False       False      False      False       True   \n",
            "\n",
            "   PC_Partial  \n",
            "0       False  \n",
            "1       False  \n",
            "2       False  \n",
            "3       False  \n",
            "4       False  \n",
            "\n",
            "[5 rows x 290 columns]\n",
            "PriceCategory\n",
            "$0–$15,000             0\n",
            "$15,000–$30,000        0\n",
            "$30,000–$45,000        5\n",
            "$45,000–$60,000        9\n",
            "$60,000–$75,000       11\n",
            "$75,000–$90,000       57\n",
            "$90,000–$105,000      58\n",
            "$105,000–$120,000    129\n",
            "$120,000–$135,000    168\n",
            "$135,000–$150,000    182\n",
            "$150,000–$165,000    133\n",
            "$165,000–$180,000    144\n",
            "$180,000–$195,000    110\n",
            "$195,000–$210,000     74\n",
            "$210,000–$225,000     67\n",
            "$225,000–$240,000     68\n",
            "$240,000–$255,000     38\n",
            "$255,000–$270,000     40\n",
            "$270,000–$285,000     36\n",
            "$285,000–$300,000     16\n",
            "Name: count, dtype: int64\n"
          ]
        }
      ],
      "source": [
        "numerical_columns = df_filtered.select_dtypes(include=['int64', 'float64']).columns.tolist()\n",
        "print(numerical_columns)\n",
        "\n",
        "import scipy.stats as stats\n",
        "\n",
        "df_filtered[numerical_columns] = df_filtered[numerical_columns].apply(stats.zscore)\n",
        "\n",
        "other_columns = df_filtered.select_dtypes(include=['object']).columns.tolist()\n",
        "print(other_columns)\n",
        "\n",
        "df_filtered = pd.get_dummies(df_filtered, columns=other_columns, drop_first=True)\n",
        "print(df_filtered.shape)\n",
        "print(df_filtered.head())\n",
        "\n",
        "#print(df_filtered.isnull().sum().sum())  # Total missing values\n",
        "#print(df_filtered.isnull().sum())        # Missing values per column\n",
        "\n",
        "print(df_filtered['PriceCategory'].value_counts().sort_index())"
      ]
    },
    {
      "cell_type": "markdown",
      "metadata": {
        "id": "IlOCOQHRYxZ8"
      },
      "source": [
        "### Step 2. Correlation Analysis + Step 3. Continue with Scaling/Standardization\n"
      ]
    },
    {
      "cell_type": "markdown",
      "metadata": {
        "id": "MiNLUuetQoA5"
      },
      "source": [
        "### Splitting Predictors, Dropping Highly Correlated Columns, and Standardizing"
      ]
    },
    {
      "cell_type": "code",
      "execution_count": 19,
      "metadata": {
        "colab": {
          "base_uri": "https://localhost:8080/"
        },
        "id": "li7smHjFfncl",
        "outputId": "342b73f3-b7b1-4f3e-d170-f0f74b17113f"
      },
      "outputs": [
        {
          "output_type": "stream",
          "name": "stdout",
          "text": [
            "Shape BEFORE one-hot encoding and standardization: (1460, 287)\n",
            "PriceCategory\n",
            "$0–$15,000             0\n",
            "$15,000–$30,000        0\n",
            "$30,000–$45,000        5\n",
            "$45,000–$60,000        9\n",
            "$60,000–$75,000       11\n",
            "$75,000–$90,000       57\n",
            "$90,000–$105,000      58\n",
            "$105,000–$120,000    129\n",
            "$120,000–$135,000    168\n",
            "$135,000–$150,000    182\n",
            "$150,000–$165,000    133\n",
            "$165,000–$180,000    144\n",
            "$180,000–$195,000    110\n",
            "$195,000–$210,000     74\n",
            "$210,000–$225,000     67\n",
            "$225,000–$240,000     68\n",
            "$240,000–$255,000     38\n",
            "$255,000–$270,000     40\n",
            "$270,000–$285,000     36\n",
            "$285,000–$300,000     16\n",
            "Name: count, dtype: int64\n"
          ]
        }
      ],
      "source": [
        "df_cleaned = df_filtered.copy()\n",
        "\n",
        "# Re-create the PriceCategory column using SalePrice from the imputed dataframe\n",
        "# We need to use the SalePrice from the imputed df_cleaned for binning\n",
        "#df_cleaned['PriceCategory'] = pd.cut(df_cleaned['SalePrice'], bins=bins, labels=labels, include_lowest=True)\n",
        "\n",
        "# Separate features (X) and target (y)\n",
        "X = df_cleaned.drop(columns=[\"SalePrice\", \"PriceCategory\", \"Id\"]) # Drop SalePrice, PriceCategory and Id\n",
        "y = df_cleaned[\"PriceCategory\"]\n",
        "\n",
        "print(\"Shape BEFORE one-hot encoding and standardization:\", X.shape)\n",
        "print(y.value_counts().sort_index())"
      ]
    },
    {
      "cell_type": "code",
      "execution_count": 20,
      "metadata": {
        "colab": {
          "base_uri": "https://localhost:8080/"
        },
        "id": "J5t2vPuhftHE",
        "outputId": "67256055-8589-426a-f723-de0f9b11c6b4"
      },
      "outputs": [
        {
          "output_type": "stream",
          "name": "stdout",
          "text": [
            "Shape AFTER one-hot encoding: (1460, 749)\n",
            "PriceCategory\n",
            "$0–$15,000             0\n",
            "$15,000–$30,000        0\n",
            "$30,000–$45,000        5\n",
            "$45,000–$60,000        9\n",
            "$60,000–$75,000       11\n",
            "$75,000–$90,000       57\n",
            "$90,000–$105,000      58\n",
            "$105,000–$120,000    129\n",
            "$120,000–$135,000    168\n",
            "$135,000–$150,000    182\n",
            "$150,000–$165,000    133\n",
            "$165,000–$180,000    144\n",
            "$180,000–$195,000    110\n",
            "$195,000–$210,000     74\n",
            "$210,000–$225,000     67\n",
            "$225,000–$240,000     68\n",
            "$240,000–$255,000     38\n",
            "$255,000–$270,000     40\n",
            "$270,000–$285,000     36\n",
            "$285,000–$300,000     16\n",
            "Name: count, dtype: int64\n"
          ]
        }
      ],
      "source": [
        "# Identify numerical and categorical columns for processing\n",
        "numerical_cols = X.select_dtypes(include=np.number).columns\n",
        "categorical_cols = X.select_dtypes(exclude=np.number).columns\n",
        "\n",
        "\n",
        "# Apply one-hot encoding to categorical features\n",
        "X = pd.get_dummies(X, columns=categorical_cols, drop_first=True)\n",
        "\n",
        "print(\"Shape AFTER one-hot encoding:\", X.shape)\n",
        "print(y.value_counts().sort_index())"
      ]
    },
    {
      "cell_type": "code",
      "execution_count": 21,
      "metadata": {
        "colab": {
          "base_uri": "https://localhost:8080/"
        },
        "id": "kZ-yAWxNfx8g",
        "outputId": "910e0c27-c02a-40db-933b-30ecd6ee29f0"
      },
      "outputs": [
        {
          "output_type": "stream",
          "name": "stdout",
          "text": [
            "PriceCategory\n",
            "$0–$15,000             0\n",
            "$15,000–$30,000        0\n",
            "$30,000–$45,000        5\n",
            "$45,000–$60,000        9\n",
            "$60,000–$75,000       11\n",
            "$75,000–$90,000       57\n",
            "$90,000–$105,000      58\n",
            "$105,000–$120,000    129\n",
            "$120,000–$135,000    168\n",
            "$135,000–$150,000    182\n",
            "$150,000–$165,000    133\n",
            "$165,000–$180,000    144\n",
            "$180,000–$195,000    110\n",
            "$195,000–$210,000     74\n",
            "$210,000–$225,000     67\n",
            "$225,000–$240,000     68\n",
            "$240,000–$255,000     38\n",
            "$255,000–$270,000     40\n",
            "$270,000–$285,000     36\n",
            "$285,000–$300,000     16\n",
            "Name: count, dtype: int64\n"
          ]
        }
      ],
      "source": [
        "# Compute correlation matrix AFTER one-hot encoding\n",
        "corr_matrix = X.corr().abs()\n",
        "upper = corr_matrix.where(np.triu(np.ones(corr_matrix.shape), k=1).astype(bool))\n",
        "\n",
        "# Identify columns to drop based on high correlation (threshold > 0.85)\n",
        "to_drop = [column for column in upper.columns if any(upper[column] > 0.85)]\n",
        "print(y.value_counts().sort_index())"
      ]
    },
    {
      "cell_type": "code",
      "execution_count": 22,
      "metadata": {
        "colab": {
          "base_uri": "https://localhost:8080/"
        },
        "id": "OegW7mlwf3YK",
        "outputId": "70783a4f-1a21-4b2e-f360-a34cdf14ce7b"
      },
      "outputs": [
        {
          "output_type": "stream",
          "name": "stdout",
          "text": [
            "Shape AFTER dropping highly correlated columns: (1460, 161)\n",
            "\n",
            "Preview of cleaned predictors (before standardization):\n",
            "   MSSubClass  LotFrontage   LotArea  OverallQual  OverallCond  YearBuilt  \\\n",
            "0    0.073375    -0.246391 -0.207142     0.651479    -0.517200   1.050994   \n",
            "1   -0.872563     0.396475 -0.091886    -0.071836     2.179628   0.156734   \n",
            "2    0.073375    -0.117818  0.073480     0.651479    -0.517200   0.984752   \n",
            "3    0.309859    -0.460679 -0.096897     0.651479    -0.517200  -1.863632   \n",
            "4    0.073375     0.567905  0.375148     1.374795    -0.517200   0.951632   \n",
            "\n",
            "   YearRemodAdd  MasVnrArea  BsmtFinSF1  BsmtFinSF2  ...  PC_ConLI_True  \\\n",
            "0      0.878668    0.509089    0.575425   -0.288653  ...          False   \n",
            "1     -0.429577   -0.574987    1.171992   -0.288653  ...          False   \n",
            "2      0.830215    0.321035    0.092907   -0.288653  ...          False   \n",
            "3     -0.720298   -0.574987   -0.499274   -0.288653  ...          False   \n",
            "4      0.733308    1.360864    0.463568   -0.288653  ...          False   \n",
            "\n",
            "   PC_ConLw_True  PC_New_True  PC_Oth_True  PC_WD_True  PC_Abnorml_True  \\\n",
            "0          False        False        False        True            False   \n",
            "1          False        False        False        True            False   \n",
            "2          False        False        False        True            False   \n",
            "3          False        False        False        True             True   \n",
            "4          False        False        False        True            False   \n",
            "\n",
            "   PC_AdjLand_True  PC_Alloca_True  PC_Family_True  PC_Normal_True  \n",
            "0            False           False           False            True  \n",
            "1            False           False           False            True  \n",
            "2            False           False           False            True  \n",
            "3            False           False           False           False  \n",
            "4            False           False           False            True  \n",
            "\n",
            "[5 rows x 161 columns]\n",
            "PriceCategory\n",
            "$0–$15,000             0\n",
            "$15,000–$30,000        0\n",
            "$30,000–$45,000        5\n",
            "$45,000–$60,000        9\n",
            "$60,000–$75,000       11\n",
            "$75,000–$90,000       57\n",
            "$90,000–$105,000      58\n",
            "$105,000–$120,000    129\n",
            "$120,000–$135,000    168\n",
            "$135,000–$150,000    182\n",
            "$150,000–$165,000    133\n",
            "$165,000–$180,000    144\n",
            "$180,000–$195,000    110\n",
            "$195,000–$210,000     74\n",
            "$210,000–$225,000     67\n",
            "$225,000–$240,000     68\n",
            "$240,000–$255,000     38\n",
            "$255,000–$270,000     40\n",
            "$270,000–$285,000     36\n",
            "$285,000–$300,000     16\n",
            "Name: count, dtype: int64\n"
          ]
        }
      ],
      "source": [
        "# Drop the highly correlated columns\n",
        "X_reduced = X.drop(columns=to_drop)\n",
        "\n",
        "print(\"Shape AFTER dropping highly correlated columns:\", X_reduced.shape)\n",
        "\n",
        "# Preview cleaned predictors before standardization\n",
        "print(\"\\nPreview of cleaned predictors (before standardization):\")\n",
        "print(X_reduced.head())\n",
        "print(y.value_counts().sort_index())\n"
      ]
    },
    {
      "cell_type": "code",
      "execution_count": 23,
      "metadata": {
        "colab": {
          "base_uri": "https://localhost:8080/"
        },
        "id": "sb8c9qxef7eT",
        "outputId": "c76f5742-ba26-4abb-f9e6-5d1f1c044d33"
      },
      "outputs": [
        {
          "output_type": "stream",
          "name": "stdout",
          "text": [
            "0\n",
            "PriceCategory\n",
            "$0–$15,000             0\n",
            "$15,000–$30,000        0\n",
            "$30,000–$45,000        5\n",
            "$45,000–$60,000        9\n",
            "$60,000–$75,000       11\n",
            "$75,000–$90,000       57\n",
            "$90,000–$105,000      58\n",
            "$105,000–$120,000    129\n",
            "$120,000–$135,000    168\n",
            "$135,000–$150,000    182\n",
            "$150,000–$165,000    133\n",
            "$165,000–$180,000    144\n",
            "$180,000–$195,000    110\n",
            "$195,000–$210,000     74\n",
            "$210,000–$225,000     67\n",
            "$225,000–$240,000     68\n",
            "$240,000–$255,000     38\n",
            "$255,000–$270,000     40\n",
            "$270,000–$285,000     36\n",
            "$285,000–$300,000     16\n",
            "Name: count, dtype: int64\n"
          ]
        }
      ],
      "source": [
        "# Verify missing values before standardization\n",
        "print(X_reduced.isnull().sum().sum())  # Should be 0\n",
        "print(y.value_counts().sort_index())"
      ]
    },
    {
      "cell_type": "code",
      "execution_count": 24,
      "metadata": {
        "colab": {
          "base_uri": "https://localhost:8080/"
        },
        "id": "u_CgYtXPgJra",
        "outputId": "8532be70-98c4-4f9c-dc45-9af87162fc2c"
      },
      "outputs": [
        {
          "output_type": "stream",
          "name": "stdout",
          "text": [
            "PriceCategory\n",
            "$0–$15,000             0\n",
            "$15,000–$30,000        0\n",
            "$30,000–$45,000        5\n",
            "$45,000–$60,000        9\n",
            "$60,000–$75,000       11\n",
            "$75,000–$90,000       57\n",
            "$90,000–$105,000      58\n",
            "$105,000–$120,000    129\n",
            "$120,000–$135,000    168\n",
            "$135,000–$150,000    182\n",
            "$150,000–$165,000    133\n",
            "$165,000–$180,000    144\n",
            "$180,000–$195,000    110\n",
            "$195,000–$210,000     74\n",
            "$210,000–$225,000     67\n",
            "$225,000–$240,000     68\n",
            "$240,000–$255,000     38\n",
            "$255,000–$270,000     40\n",
            "$270,000–$285,000     36\n",
            "$285,000–$300,000     16\n",
            "Name: count, dtype: int64\n"
          ]
        }
      ],
      "source": [
        "# Standardize the numerical columns\n",
        "# Identify numerical columns that are still present in X_reduced\n",
        "numerical_cols_in_reduced = X_reduced.select_dtypes(include=np.number).columns\n",
        "\n",
        "# Use a ColumnTransformer to apply StandardScaler only to these numerical columns\n",
        "preprocessor = ColumnTransformer(\n",
        "    transformers=[\n",
        "        ('num', StandardScaler(), numerical_cols_in_reduced)\n",
        "    ],\n",
        "    remainder='passthrough' # Keep other columns (one-hot encoded) as they are\n",
        ")\n",
        "\n",
        "X_scaled = preprocessor.fit_transform(X_reduced)\n",
        "print(y.value_counts().sort_index())"
      ]
    },
    {
      "cell_type": "code",
      "execution_count": 25,
      "metadata": {
        "colab": {
          "base_uri": "https://localhost:8080/"
        },
        "id": "WfHEQMDAQorc",
        "outputId": "1c609d04-b572-4890-fbab-7ea8e0c42ddc"
      },
      "outputs": [
        {
          "output_type": "stream",
          "name": "stdout",
          "text": [
            "\n",
            "Means after standardization (should be ~0) for numerical columns:\n",
            "MSSubClass    -6.083414e-19\n",
            "LotFrontage    1.825024e-17\n",
            "LotArea        2.433366e-18\n",
            "OverallQual    2.433366e-18\n",
            "OverallCond   -2.068361e-17\n",
            "dtype: float64\n",
            "\n",
            "Stds after standardization (should be ~1) for numerical columns:\n",
            "MSSubClass     1.000343\n",
            "LotFrontage    1.000343\n",
            "LotArea        1.000343\n",
            "OverallQual    1.000343\n",
            "OverallCond    1.000343\n",
            "dtype: float64\n",
            "\n",
            "Final cleaned and standardized predictors shape: (1460, 161)\n",
            "PriceCategory\n",
            "$0–$15,000             0\n",
            "$15,000–$30,000        0\n",
            "$30,000–$45,000        5\n",
            "$45,000–$60,000        9\n",
            "$60,000–$75,000       11\n",
            "$75,000–$90,000       57\n",
            "$90,000–$105,000      58\n",
            "$105,000–$120,000    129\n",
            "$120,000–$135,000    168\n",
            "$135,000–$150,000    182\n",
            "$150,000–$165,000    133\n",
            "$165,000–$180,000    144\n",
            "$180,000–$195,000    110\n",
            "$195,000–$210,000     74\n",
            "$210,000–$225,000     67\n",
            "$225,000–$240,000     68\n",
            "$240,000–$255,000     38\n",
            "$255,000–$270,000     40\n",
            "$270,000–$285,000     36\n",
            "$285,000–$300,000     16\n",
            "Name: count, dtype: int64\n"
          ]
        }
      ],
      "source": [
        "# original one-hot encoded column names from X_reduced that were not numerical.\n",
        "original_numerical_cols_in_reduced = [col for col in numerical_cols if col in X_reduced.columns]\n",
        "original_other_cols_in_reduced = [col for col in X_reduced.columns if col not in numerical_cols]\n",
        "X_scaled_df = pd.DataFrame(X_scaled, columns=list(numerical_cols_in_reduced) + original_other_cols_in_reduced)\n",
        "\n",
        "\n",
        "# Confirm means and stds for numerical columns after standardization\n",
        "print(\"\\nMeans after standardization (should be ~0) for numerical columns:\")\n",
        "print(X_scaled_df[numerical_cols_in_reduced].mean().head())\n",
        "\n",
        "print(\"\\nStds after standardization (should be ~1) for numerical columns:\")\n",
        "print(X_scaled_df[numerical_cols_in_reduced].std().head())\n",
        "\n",
        "print(\"\\nFinal cleaned and standardized predictors shape:\", X_scaled_df.shape)\n",
        "print(y.value_counts().sort_index())"
      ]
    },
    {
      "cell_type": "markdown",
      "metadata": {
        "id": "FfKvnFiAOaoj"
      },
      "source": [
        "### Summary of Results:\n",
        "\n",
        "- Shape Before: (1399 rows, 189 columns)\n",
        "- Initial dataset after one-hot encoding and outlier removal.\n",
        "\n",
        "- Computed Correlation Matrix:\n",
        " -  Measured pairwise relationships between predictors to detect multicollinearity.\n",
        "\n",
        "- Columns Dropped Due to High Correlation: 13\n",
        " - Removed predictors with >0.85 correlation to avoid redundancy and improve model interpretability.\n",
        "\n",
        "- Shape After Dropping Columns: (1399 rows, 176 columns)\n",
        " - Confirmed correct reduction in features.\n",
        "\n",
        "- Standardized All Predictors:\n",
        " - Scaled features to mean ≈0 and standard deviation ≈1 to ensure comparability and support model convergence.\n",
        "\n",
        "- Means After Scaling: ~0\n",
        " - Verified successful centering of each feature.\n",
        "\n",
        "- Standard Deviations After Scaling: ~1\n",
        " - Verified correct scaling to unit variance.\n",
        "\n",
        "### Outcome:\n",
        " - This cleaned and standardized dataset (X_scaled_df) is ready for regression modeling (Lasso, SVM, etc.) with reduced multicollinearity, balanced scales, and clear feature structure."
      ]
    },
    {
      "cell_type": "markdown",
      "metadata": {
        "id": "zPDLymrsZOgt"
      },
      "source": [
        "## Step 5. Remove predictors with very little to zero relationship to the target: Apply Lasso + Step 7. Proceed to feature engineering/modeling: Apply SVM RBF to dataset + Step 8. Model Evaluation\n",
        "\n"
      ]
    },
    {
      "cell_type": "markdown",
      "metadata": {
        "id": "HLx6rhigO-_g"
      },
      "source": [
        "### Feature Selection Using:\n",
        " - Lasso\n",
        " - RFE"
      ]
    },
    {
      "cell_type": "markdown",
      "metadata": {
        "id": "XaAz7cfMPD3T"
      },
      "source": [
        "#### Lasso (Initial Screening)"
      ]
    },
    {
      "cell_type": "code",
      "execution_count": 26,
      "metadata": {
        "colab": {
          "base_uri": "https://localhost:8080/"
        },
        "id": "XnL8GXXfPLEz",
        "outputId": "6bd2b29e-2331-494d-adb8-d694b62145d5"
      },
      "outputs": [
        {
          "output_type": "stream",
          "name": "stdout",
          "text": [
            "(1460, 161) (1460,)\n"
          ]
        }
      ],
      "source": [
        "#Step 1: Verify X_scaled_df and y\n",
        "print(X_scaled_df.shape, y.shape)"
      ]
    },
    {
      "cell_type": "code",
      "execution_count": 27,
      "metadata": {
        "colab": {
          "base_uri": "https://localhost:8080/"
        },
        "id": "A-2ULD2ucdVc",
        "outputId": "2baaa814-48a2-4159-a23a-4f8324a9c0c2"
      },
      "outputs": [
        {
          "output_type": "stream",
          "name": "stdout",
          "text": [
            "Class distribution in y:\n",
            "PriceCategory\n",
            "$135,000–$150,000    182\n",
            "$120,000–$135,000    168\n",
            "$165,000–$180,000    144\n",
            "$150,000–$165,000    133\n",
            "$105,000–$120,000    129\n",
            "$180,000–$195,000    110\n",
            "$195,000–$210,000     74\n",
            "$225,000–$240,000     68\n",
            "$210,000–$225,000     67\n",
            "$90,000–$105,000      58\n",
            "$75,000–$90,000       57\n",
            "$255,000–$270,000     40\n",
            "$240,000–$255,000     38\n",
            "$270,000–$285,000     36\n",
            "$285,000–$300,000     16\n",
            "$60,000–$75,000       11\n",
            "$45,000–$60,000        9\n",
            "$30,000–$45,000        5\n",
            "$0–$15,000             0\n",
            "$15,000–$30,000        0\n",
            "Name: count, dtype: int64\n"
          ]
        }
      ],
      "source": [
        "print(\"Class distribution in y:\")\n",
        "print(y.value_counts())"
      ]
    },
    {
      "cell_type": "code",
      "execution_count": 28,
      "metadata": {
        "colab": {
          "base_uri": "https://localhost:8080/"
        },
        "id": "Z5F6sUwoPYdu",
        "outputId": "d2b833cb-093c-40b5-a466-cab8eb7a22f2"
      },
      "outputs": [
        {
          "output_type": "stream",
          "name": "stdout",
          "text": [
            "(1460, 161) (1460,)\n",
            "Checking for NaNs in X_scaled_df before Lasso:\n",
            "0\n",
            "Removing 115 rows with NaN values in the target variable y.\n",
            "Shapes after removing NaNs in y: X_scaled_df: (1345, 161), y: (1345,)\n"
          ]
        }
      ],
      "source": [
        "# Import necessary libraries\n",
        "from sklearn.linear_model import LogisticRegression\n",
        "from sklearn.feature_selection import SelectFromModel, RFE\n",
        "from sklearn.ensemble import RandomForestClassifier\n",
        "import matplotlib.pyplot as plt\n",
        "import numpy as np\n",
        "\n",
        "# Step 1: Verify X_scaled_df and y\n",
        "print(X_scaled_df.shape, y.shape)\n",
        "\n",
        "# Check for NaNs in X_scaled_df before fitting Lasso\n",
        "print(\"Checking for NaNs in X_scaled_df before Lasso:\")\n",
        "print(X_scaled_df.isnull().sum().sum())\n",
        "if X_scaled_df.isnull().sum().sum() > 0:\n",
        "    print(\"NaN values found in X_scaled_df. Investigating the source of NaNs.\")\n",
        "\n",
        "# Remove rows with NaN in the target variable y and reset index for alignment\n",
        "nan_in_y = y.isnull()\n",
        "if nan_in_y.sum() > 0:\n",
        "    print(f\"Removing {nan_in_y.sum()} rows with NaN values in the target variable y.\")\n",
        "    # Reset index of y to align with X_scaled_df's integer index\n",
        "    y_reset_index = y.reset_index(drop=True)\n",
        "    # Filter both X_scaled_df and y using the boolean index from the reset y\n",
        "    X_scaled_df = X_scaled_df[~nan_in_y.reset_index(drop=True)]\n",
        "    y = y_reset_index[~nan_in_y.reset_index(drop=True)]\n",
        "    print(f\"Shapes after removing NaNs in y: X_scaled_df: {X_scaled_df.shape}, y: {y.shape}\")\n",
        "\n",
        "\n",
        "# Lasso Feature Selection (Logistic Regression with L1 regularization)\n",
        "# Using the cleaned and standardized data X_scaled_df\n",
        "lasso = LogisticRegression(penalty='l1', solver='saga', C=0.1, max_iter=10000, random_state=42) # Increased max_iter\n",
        "lasso.fit(X_scaled_df, y)\n",
        "\n",
        "lasso_model = SelectFromModel(lasso, prefit=True)\n",
        "lasso_features = X_scaled_df.columns[lasso_model.get_support()]"
      ]
    },
    {
      "cell_type": "markdown",
      "metadata": {
        "id": "qosJ-lpqUgGP"
      },
      "source": [
        "#### Visualization: Coeficients from Lasso"
      ]
    },
    {
      "cell_type": "code",
      "execution_count": 29,
      "metadata": {
        "colab": {
          "base_uri": "https://localhost:8080/",
          "height": 607
        },
        "id": "XItgrN4QUu5P",
        "outputId": "5c4b33ac-92c8-4adb-af18-aeb3665b0254"
      },
      "outputs": [
        {
          "output_type": "display_data",
          "data": {
            "text/plain": [
              "<Figure size 1000x600 with 1 Axes>"
            ],
            "image/png": "[encoded data removed]"
          },
          "metadata": {}
        }
      ],
      "source": [
        "import numpy as np\n",
        "import matplotlib.pyplot as plt\n",
        "\n",
        "# Visualize Lasso coefficients\n",
        "coef_abs = np.abs(lasso.coef_).max(axis=0)\n",
        "lasso_coef_df = pd.Series(coef_abs, index=X_scaled_df.columns).sort_values(ascending=False).head(20)\n",
        "\n",
        "plt.figure(figsize=(10, 6))\n",
        "lasso_coef_df.plot(kind='bar')\n",
        "plt.title('Top 20 Features Selected by Lasso')\n",
        "plt.ylabel('Coefficient Magnitude')\n",
        "plt.tight_layout()\n",
        "plt.show()"
      ]
    },
    {
      "cell_type": "markdown",
      "metadata": {
        "id": "wziYAT2-UmgA"
      },
      "source": [
        "#### RFE (Further Refinement)"
      ]
    },
    {
      "cell_type": "code",
      "execution_count": 30,
      "metadata": {
        "id": "5VG-iycAnmHh"
      },
      "outputs": [],
      "source": [
        "# RFE Feature Selection\n",
        "logreg = LogisticRegression(max_iter=10000, random_state=42) # Increased max_iter\n",
        "rfe = RFE(estimator=logreg, n_features_to_select=20)\n",
        "rfe.fit(X_scaled_df, y)\n",
        "\n",
        "rfe_features = X_scaled_df.columns[rfe.get_support()]"
      ]
    },
    {
      "cell_type": "markdown",
      "metadata": {
        "id": "10yFLEJZnsi7"
      },
      "source": [
        "#### Visualization: RFE Selected Features"
      ]
    },
    {
      "cell_type": "code",
      "execution_count": 31,
      "metadata": {
        "colab": {
          "base_uri": "https://localhost:8080/",
          "height": 607
        },
        "id": "VpyGrn9wn2fT",
        "outputId": "f30a527c-c305-4ed0-de6c-1e1bb08e7c21"
      },
      "outputs": [
        {
          "output_type": "display_data",
          "data": {
            "text/plain": [
              "<Figure size 1000x600 with 1 Axes>"
            ],
            "image/png": "[encoded data removed]"
          },
          "metadata": {}
        }
      ],
      "source": [
        "# Visualize RFE rankings\n",
        "rfe_ranking_df = pd.Series(rfe.ranking_, index=X_scaled_df.columns).sort_values().head(20)\n",
        "\n",
        "plt.figure(figsize=(10, 6))\n",
        "rfe_ranking_df.plot(kind='bar')\n",
        "plt.title('Top 20 Features by RFE Ranking (lower is better)')\n",
        "plt.ylabel('Ranking')\n",
        "plt.tight_layout()\n",
        "plt.show()"
      ]
    },
    {
      "cell_type": "markdown",
      "metadata": {
        "id": "36dnSRi4nwSK"
      },
      "source": [
        "#### Further Refinement using Random Forest"
      ]
    },
    {
      "cell_type": "markdown",
      "metadata": {
        "id": "fU7OnTaAoGvs"
      },
      "source": [
        "#### Random Forest Feature Selection"
      ]
    },
    {
      "cell_type": "code",
      "execution_count": 32,
      "metadata": {
        "id": "2MaUeVkloaFy"
      },
      "outputs": [],
      "source": [
        "rf = RandomForestClassifier(n_estimators=100, random_state=42)\n",
        "rf.fit(X_scaled_df, y)\n",
        "\n",
        "rf_importances = pd.Series(rf.feature_importances_, index=X_scaled_df.columns).sort_values(ascending=False).head(20)"
      ]
    },
    {
      "cell_type": "markdown",
      "metadata": {
        "id": "xUB9BAWloVWQ"
      },
      "source": [
        "#### Visualization: Feature importance using Random Forest"
      ]
    },
    {
      "cell_type": "code",
      "execution_count": 33,
      "metadata": {
        "colab": {
          "base_uri": "https://localhost:8080/",
          "height": 607
        },
        "id": "hO4_cZ7ToY8k",
        "outputId": "416ea8f8-7b4c-47f0-aeee-760ee004a7da"
      },
      "outputs": [
        {
          "output_type": "display_data",
          "data": {
            "text/plain": [
              "<Figure size 1000x600 with 1 Axes>"
            ],
            "image/png": "[encoded data removed]"
          },
          "metadata": {}
        }
      ],
      "source": [
        "plt.figure(figsize=(10, 6))\n",
        "rf_importances.plot(kind='bar')\n",
        "plt.title('Top 20 Feature Importances from Random Forest')\n",
        "plt.ylabel('Importance')\n",
        "plt.tight_layout()\n",
        "plt.show()"
      ]
    },
    {
      "cell_type": "markdown",
      "metadata": {
        "id": "s-4hUDINogXk"
      },
      "source": [
        "#### Combine feature selection results"
      ]
    },
    {
      "cell_type": "code",
      "execution_count": 34,
      "metadata": {
        "colab": {
          "base_uri": "https://localhost:8080/"
        },
        "id": "7GQwmYSPooQx",
        "outputId": "8a258b37-ff5a-4644-d813-11e3d0d6c6ba"
      },
      "outputs": [
        {
          "output_type": "stream",
          "name": "stdout",
          "text": [
            "Total combined features selected: 23\n",
            "Final selected features: ['LotArea', 'OverallQual', 'BsmtFinSF1', 'YearRemodAdd', 'YearBuilt', '2ndFlrSF', '1stFlrSF', 'GrLivArea', 'TotalBsmtSF', 'PC_BrkCmn_True', 'GarageCars', 'BsmtUnfSF', 'OverallCond', 'WoodDeckSF', 'PC_RL_True', 'YrSold', 'OpenPorchSF', 'TotRmsAbvGrd', 'GarageYrBlt', 'LotFrontage', 'MasVnrArea', 'PC_GdPrv_True', 'PC_MnPrv_True']\n"
          ]
        }
      ],
      "source": [
        "# Combine features from Lasso, RFE, and Random Forest\n",
        "combined_features = pd.concat([pd.Series(lasso_features), pd.Series(rfe_features), pd.Series(rf_importances.index)]).value_counts()\n",
        "\n",
        "# Select features identified by at least two methods\n",
        "final_features = combined_features[combined_features >= 2].index.tolist()\n",
        "\n",
        "print(f'Total combined features selected: {len(final_features)}')\n",
        "print('Final selected features:', final_features)\n",
        "\n",
        "import plotly.express as px\n",
        "import pandas as pd\n",
        "\n",
        "# Convert the Series to DataFrame for Plotly\n",
        "combined_features_df = combined_features.reset_index()\n",
        "combined_features_df.columns = ['Feature', 'Frequency']\n",
        "combined_features_df = combined_features_df.sort_values(by='Frequency', ascending=True)"
      ]
    },
    {
      "cell_type": "markdown",
      "metadata": {
        "id": "Tjb-JugOopW5"
      },
      "source": [
        "#### Visualization: Feature Selection with Combined Results"
      ]
    },
    {
      "cell_type": "code",
      "execution_count": 35,
      "metadata": {
        "colab": {
          "base_uri": "https://localhost:8080/",
          "height": 1000
        },
        "id": "qsTY9FTDo0Jb",
        "outputId": "4e25b07d-1761-446a-d4f7-ea8031fde348"
      },
      "outputs": [
        {
          "output_type": "display_data",
          "data": {
            "text/html": [
              "<html>\n",
              "<head><meta charset=\"utf-8\" /></head>\n",
              "<body>\n",
              "    <div>            <script src=\"https://cdnjs.cloudflare.com/ajax/libs/mathjax/2.7.5/MathJax.js?config=TeX-AMS-MML_SVG\"></script><script type=\"text/javascript\">if (window.MathJax && window.MathJax.Hub && window.MathJax.Hub.Config) {window.MathJax.Hub.Config({SVG: {font: \"STIX-Web\"}});}</script>                <script type=\"text/javascript\">window.PlotlyConfig = {MathJaxConfig: 'local'};</script>\n",
              "        <script charset=\"utf-8\" src=\"https://cdn.plot.ly/plotly-2.35.2.min.js\"></script>                <div id=\"57237dff-40bd-470b-8755-a7ba3d876049\" class=\"plotly-graph-div\" style=\"height:1600px; width:900px;\"></div>            <script type=\"text/javascript\">                                    window.PLOTLYENV=window.PLOTLYENV || {};                                    if (document.getElementById(\"57237dff-40bd-470b-8755-a7ba3d876049\")) {                    Plotly.newPlot(                        \"57237dff-40bd-470b-8755-a7ba3d876049\",                        [{\"alignmentgroup\":\"True\",\"hovertemplate\":\"Frequency=%{x}\\u003cbr\\u003eFeature=%{y}\\u003cextra\\u003e\\u003c\\u002fextra\\u003e\",\"legendgroup\":\"\",\"marker\":{\"color\":\"#636efa\",\"pattern\":{\"shape\":\"\"}},\"name\":\"\",\"offsetgroup\":\"\",\"orientation\":\"h\",\"showlegend\":false,\"textposition\":\"auto\",\"x\":[1,1,1,1,1,1,1,1,1,1,1,1,1,1,1,1,1,1,1,1,1,1,1,1,1,1,1,1,1,1,2,2,2,2,2,2,2,2,2,2,2,2,3,3,3,3,3,3,3,3,3,3,3],\"xaxis\":\"x\",\"y\":[\"FullBath\",\"BsmtHalfBath\",\"BsmtFullBath\",\"LowQualFinSF\",\"MSSubClass\",\"KitchenAbvGr\",\"BedroomAbvGr\",\"3SsnPorch\",\"HalfBath\",\"PC_Gilbert_True\",\"PC_NAmes_True\",\"MoSold\",\"PC_Typ_True\",\"PC_PConc_True\",\"PC_1Fam_True\",\"PC_Crawfor_True\",\"PC_RM_True\",\"PC_GdWo_True\",\"PC_RFn_True\",\"PC_Sawyer_True\",\"PC_Fin_True\",\"PC_Detchd_True\",\"PC_Attchd_True\",\"PC_No_True\",\"PC_IR1_True\",\"EnclosedPorch\",\"MiscVal\",\"Fireplaces\",\"PoolArea\",\"ScreenPorch\",\"PC_RL_True\",\"OverallCond\",\"YrSold\",\"PC_MnPrv_True\",\"MasVnrArea\",\"BsmtUnfSF\",\"WoodDeckSF\",\"OpenPorchSF\",\"GarageYrBlt\",\"TotRmsAbvGrd\",\"PC_GdPrv_True\",\"LotFrontage\",\"PC_BrkCmn_True\",\"GarageCars\",\"TotalBsmtSF\",\"LotArea\",\"BsmtFinSF1\",\"OverallQual\",\"GrLivArea\",\"1stFlrSF\",\"2ndFlrSF\",\"YearBuilt\",\"YearRemodAdd\"],\"yaxis\":\"y\",\"type\":\"bar\"}],                        {\"template\":{\"data\":{\"histogram2dcontour\":[{\"type\":\"histogram2dcontour\",\"colorbar\":{\"outlinewidth\":0,\"ticks\":\"\"},\"colorscale\":[[0.0,\"#0d0887\"],[0.1111111111111111,\"#46039f\"],[0.2222222222222222,\"#7201a8\"],[0.3333333333333333,\"#9c179e\"],[0.4444444444444444,\"#bd3786\"],[0.5555555555555556,\"#d8576b\"],[0.6666666666666666,\"#ed7953\"],[0.7777777777777778,\"#fb9f3a\"],[0.8888888888888888,\"#fdca26\"],[1.0,\"#f0f921\"]]}],\"choropleth\":[{\"type\":\"choropleth\",\"colorbar\":{\"outlinewidth\":0,\"ticks\":\"\"}}],\"histogram2d\":[{\"type\":\"histogram2d\",\"colorbar\":{\"outlinewidth\":0,\"ticks\":\"\"},\"colorscale\":[[0.0,\"#0d0887\"],[0.1111111111111111,\"#46039f\"],[0.2222222222222222,\"#7201a8\"],[0.3333333333333333,\"#9c179e\"],[0.4444444444444444,\"#bd3786\"],[0.5555555555555556,\"#d8576b\"],[0.6666666666666666,\"#ed7953\"],[0.7777777777777778,\"#fb9f3a\"],[0.8888888888888888,\"#fdca26\"],[1.0,\"#f0f921\"]]}],\"heatmap\":[{\"type\":\"heatmap\",\"colorbar\":{\"outlinewidth\":0,\"ticks\":\"\"},\"colorscale\":[[0.0,\"#0d0887\"],[0.1111111111111111,\"#46039f\"],[0.2222222222222222,\"#7201a8\"],[0.3333333333333333,\"#9c179e\"],[0.4444444444444444,\"#bd3786\"],[0.5555555555555556,\"#d8576b\"],[0.6666666666666666,\"#ed7953\"],[0.7777777777777778,\"#fb9f3a\"],[0.8888888888888888,\"#fdca26\"],[1.0,\"#f0f921\"]]}],\"heatmapgl\":[{\"type\":\"heatmapgl\",\"colorbar\":{\"outlinewidth\":0,\"ticks\":\"\"},\"colorscale\":[[0.0,\"#0d0887\"],[0.1111111111111111,\"#46039f\"],[0.2222222222222222,\"#7201a8\"],[0.3333333333333333,\"#9c179e\"],[0.4444444444444444,\"#bd3786\"],[0.5555555555555556,\"#d8576b\"],[0.6666666666666666,\"#ed7953\"],[0.7777777777777778,\"#fb9f3a\"],[0.8888888888888888,\"#fdca26\"],[1.0,\"#f0f921\"]]}],\"contourcarpet\":[{\"type\":\"contourcarpet\",\"colorbar\":{\"outlinewidth\":0,\"ticks\":\"\"}}],\"contour\":[{\"type\":\"contour\",\"colorbar\":{\"outlinewidth\":0,\"ticks\":\"\"},\"colorscale\":[[0.0,\"#0d0887\"],[0.1111111111111111,\"#46039f\"],[0.2222222222222222,\"#7201a8\"],[0.3333333333333333,\"#9c179e\"],[0.4444444444444444,\"#bd3786\"],[0.5555555555555556,\"#d8576b\"],[0.6666666666666666,\"#ed7953\"],[0.7777777777777778,\"#fb9f3a\"],[0.8888888888888888,\"#fdca26\"],[1.0,\"#f0f921\"]]}],\"surface\":[{\"type\":\"surface\",\"colorbar\":{\"outlinewidth\":0,\"ticks\":\"\"},\"colorscale\":[[0.0,\"#0d0887\"],[0.1111111111111111,\"#46039f\"],[0.2222222222222222,\"#7201a8\"],[0.3333333333333333,\"#9c179e\"],[0.4444444444444444,\"#bd3786\"],[0.5555555555555556,\"#d8576b\"],[0.6666666666666666,\"#ed7953\"],[0.7777777777777778,\"#fb9f3a\"],[0.8888888888888888,\"#fdca26\"],[1.0,\"#f0f921\"]]}],\"mesh3d\":[{\"type\":\"mesh3d\",\"colorbar\":{\"outlinewidth\":0,\"ticks\":\"\"}}],\"scatter\":[{\"fillpattern\":{\"fillmode\":\"overlay\",\"size\":10,\"solidity\":0.2},\"type\":\"scatter\"}],\"parcoords\":[{\"type\":\"parcoords\",\"line\":{\"colorbar\":{\"outlinewidth\":0,\"ticks\":\"\"}}}],\"scatterpolargl\":[{\"type\":\"scatterpolargl\",\"marker\":{\"colorbar\":{\"outlinewidth\":0,\"ticks\":\"\"}}}],\"bar\":[{\"error_x\":{\"color\":\"#2a3f5f\"},\"error_y\":{\"color\":\"#2a3f5f\"},\"marker\":{\"line\":{\"color\":\"#E5ECF6\",\"width\":0.5},\"pattern\":{\"fillmode\":\"overlay\",\"size\":10,\"solidity\":0.2}},\"type\":\"bar\"}],\"scattergeo\":[{\"type\":\"scattergeo\",\"marker\":{\"colorbar\":{\"outlinewidth\":0,\"ticks\":\"\"}}}],\"scatterpolar\":[{\"type\":\"scatterpolar\",\"marker\":{\"colorbar\":{\"outlinewidth\":0,\"ticks\":\"\"}}}],\"histogram\":[{\"marker\":{\"pattern\":{\"fillmode\":\"overlay\",\"size\":10,\"solidity\":0.2}},\"type\":\"histogram\"}],\"scattergl\":[{\"type\":\"scattergl\",\"marker\":{\"colorbar\":{\"outlinewidth\":0,\"ticks\":\"\"}}}],\"scatter3d\":[{\"type\":\"scatter3d\",\"line\":{\"colorbar\":{\"outlinewidth\":0,\"ticks\":\"\"}},\"marker\":{\"colorbar\":{\"outlinewidth\":0,\"ticks\":\"\"}}}],\"scattermapbox\":[{\"type\":\"scattermapbox\",\"marker\":{\"colorbar\":{\"outlinewidth\":0,\"ticks\":\"\"}}}],\"scatterternary\":[{\"type\":\"scatterternary\",\"marker\":{\"colorbar\":{\"outlinewidth\":0,\"ticks\":\"\"}}}],\"scattercarpet\":[{\"type\":\"scattercarpet\",\"marker\":{\"colorbar\":{\"outlinewidth\":0,\"ticks\":\"\"}}}],\"carpet\":[{\"aaxis\":{\"endlinecolor\":\"#2a3f5f\",\"gridcolor\":\"white\",\"linecolor\":\"white\",\"minorgridcolor\":\"white\",\"startlinecolor\":\"#2a3f5f\"},\"baxis\":{\"endlinecolor\":\"#2a3f5f\",\"gridcolor\":\"white\",\"linecolor\":\"white\",\"minorgridcolor\":\"white\",\"startlinecolor\":\"#2a3f5f\"},\"type\":\"carpet\"}],\"table\":[{\"cells\":{\"fill\":{\"color\":\"#EBF0F8\"},\"line\":{\"color\":\"white\"}},\"header\":{\"fill\":{\"color\":\"#C8D4E3\"},\"line\":{\"color\":\"white\"}},\"type\":\"table\"}],\"barpolar\":[{\"marker\":{\"line\":{\"color\":\"#E5ECF6\",\"width\":0.5},\"pattern\":{\"fillmode\":\"overlay\",\"size\":10,\"solidity\":0.2}},\"type\":\"barpolar\"}],\"pie\":[{\"automargin\":true,\"type\":\"pie\"}]},\"layout\":{\"autotypenumbers\":\"strict\",\"colorway\":[\"#636efa\",\"#EF553B\",\"#00cc96\",\"#ab63fa\",\"#FFA15A\",\"#19d3f3\",\"#FF6692\",\"#B6E880\",\"#FF97FF\",\"#FECB52\"],\"font\":{\"color\":\"#2a3f5f\"},\"hovermode\":\"closest\",\"hoverlabel\":{\"align\":\"left\"},\"paper_bgcolor\":\"white\",\"plot_bgcolor\":\"#E5ECF6\",\"polar\":{\"bgcolor\":\"#E5ECF6\",\"angularaxis\":{\"gridcolor\":\"white\",\"linecolor\":\"white\",\"ticks\":\"\"},\"radialaxis\":{\"gridcolor\":\"white\",\"linecolor\":\"white\",\"ticks\":\"\"}},\"ternary\":{\"bgcolor\":\"#E5ECF6\",\"aaxis\":{\"gridcolor\":\"white\",\"linecolor\":\"white\",\"ticks\":\"\"},\"baxis\":{\"gridcolor\":\"white\",\"linecolor\":\"white\",\"ticks\":\"\"},\"caxis\":{\"gridcolor\":\"white\",\"linecolor\":\"white\",\"ticks\":\"\"}},\"coloraxis\":{\"colorbar\":{\"outlinewidth\":0,\"ticks\":\"\"}},\"colorscale\":{\"sequential\":[[0.0,\"#0d0887\"],[0.1111111111111111,\"#46039f\"],[0.2222222222222222,\"#7201a8\"],[0.3333333333333333,\"#9c179e\"],[0.4444444444444444,\"#bd3786\"],[0.5555555555555556,\"#d8576b\"],[0.6666666666666666,\"#ed7953\"],[0.7777777777777778,\"#fb9f3a\"],[0.8888888888888888,\"#fdca26\"],[1.0,\"#f0f921\"]],\"sequentialminus\":[[0.0,\"#0d0887\"],[0.1111111111111111,\"#46039f\"],[0.2222222222222222,\"#7201a8\"],[0.3333333333333333,\"#9c179e\"],[0.4444444444444444,\"#bd3786\"],[0.5555555555555556,\"#d8576b\"],[0.6666666666666666,\"#ed7953\"],[0.7777777777777778,\"#fb9f3a\"],[0.8888888888888888,\"#fdca26\"],[1.0,\"#f0f921\"]],\"diverging\":[[0,\"#8e0152\"],[0.1,\"#c51b7d\"],[0.2,\"#de77ae\"],[0.3,\"#f1b6da\"],[0.4,\"#fde0ef\"],[0.5,\"#f7f7f7\"],[0.6,\"#e6f5d0\"],[0.7,\"#b8e186\"],[0.8,\"#7fbc41\"],[0.9,\"#4d9221\"],[1,\"#276419\"]]},\"xaxis\":{\"gridcolor\":\"white\",\"linecolor\":\"white\",\"ticks\":\"\",\"title\":{\"standoff\":15},\"zerolinecolor\":\"white\",\"automargin\":true,\"zerolinewidth\":2},\"yaxis\":{\"gridcolor\":\"white\",\"linecolor\":\"white\",\"ticks\":\"\",\"title\":{\"standoff\":15},\"zerolinecolor\":\"white\",\"automargin\":true,\"zerolinewidth\":2},\"scene\":{\"xaxis\":{\"backgroundcolor\":\"#E5ECF6\",\"gridcolor\":\"white\",\"linecolor\":\"white\",\"showbackground\":true,\"ticks\":\"\",\"zerolinecolor\":\"white\",\"gridwidth\":2},\"yaxis\":{\"backgroundcolor\":\"#E5ECF6\",\"gridcolor\":\"white\",\"linecolor\":\"white\",\"showbackground\":true,\"ticks\":\"\",\"zerolinecolor\":\"white\",\"gridwidth\":2},\"zaxis\":{\"backgroundcolor\":\"#E5ECF6\",\"gridcolor\":\"white\",\"linecolor\":\"white\",\"showbackground\":true,\"ticks\":\"\",\"zerolinecolor\":\"white\",\"gridwidth\":2}},\"shapedefaults\":{\"line\":{\"color\":\"#2a3f5f\"}},\"annotationdefaults\":{\"arrowcolor\":\"#2a3f5f\",\"arrowhead\":0,\"arrowwidth\":1},\"geo\":{\"bgcolor\":\"white\",\"landcolor\":\"#E5ECF6\",\"subunitcolor\":\"white\",\"showland\":true,\"showlakes\":true,\"lakecolor\":\"white\"},\"title\":{\"x\":0.05},\"mapbox\":{\"style\":\"light\"}}},\"xaxis\":{\"anchor\":\"y\",\"domain\":[0.0,1.0],\"title\":{\"text\":\"Selection Frequency\"}},\"yaxis\":{\"anchor\":\"x\",\"domain\":[0.0,1.0],\"title\":{\"text\":\"Feature\"},\"tickfont\":{\"size\":10}},\"legend\":{\"tracegroupgap\":0},\"title\":{\"text\":\"Frequency of Features Selected by Lasso, RFE, and Random Forest\"},\"barmode\":\"relative\",\"height\":1600,\"width\":900,\"margin\":{\"l\":200,\"r\":20,\"t\":50,\"b\":20}},                        {\"responsive\": true}                    ).then(function(){\n",
              "                            \n",
              "var gd = document.getElementById('57237dff-40bd-470b-8755-a7ba3d876049');\n",
              "var x = new MutationObserver(function (mutations, observer) {{\n",
              "        var display = window.getComputedStyle(gd).display;\n",
              "        if (!display || display === 'none') {{\n",
              "            console.log([gd, 'removed!']);\n",
              "            Plotly.purge(gd);\n",
              "            observer.disconnect();\n",
              "        }}\n",
              "}});\n",
              "\n",
              "// Listen for the removal of the full notebook cells\n",
              "var notebookContainer = gd.closest('#notebook-container');\n",
              "if (notebookContainer) {{\n",
              "    x.observe(notebookContainer, {childList: true});\n",
              "}}\n",
              "\n",
              "// Listen for the clearing of the current output cell\n",
              "var outputEl = gd.closest('.output');\n",
              "if (outputEl) {{\n",
              "    x.observe(outputEl, {childList: true});\n",
              "}}\n",
              "\n",
              "                        })                };                            </script>        </div>\n",
              "</body>\n",
              "</html>"
            ]
          },
          "metadata": {}
        }
      ],
      "source": [
        "# Plot using Plotly\n",
        "fig = px.bar(\n",
        "    combined_features_df,\n",
        "    x='Frequency',\n",
        "    y='Feature',\n",
        "    orientation='h',\n",
        "    title='Frequency of Features Selected by Lasso, RFE, and Random Forest',\n",
        "    height=1600,  # Increase height for vertical scroll space\n",
        "    width=900\n",
        ")\n",
        "\n",
        "fig.update_layout(\n",
        "    yaxis=dict(\n",
        "        tickfont=dict(size=10),\n",
        "    ),\n",
        "    xaxis=dict(title='Selection Frequency'),\n",
        "    margin=dict(l=200, r=20, t=50, b=20)\n",
        ")\n",
        "\n",
        "fig.show()"
      ]
    },
    {
      "cell_type": "markdown",
      "metadata": {
        "id": "s3jlojX1o8x3"
      },
      "source": [
        "#### Refine DataFrame with Feature Selection"
      ]
    },
    {
      "cell_type": "code",
      "execution_count": 36,
      "metadata": {
        "id": "kq43KgPKpAha"
      },
      "outputs": [],
      "source": [
        "# Step 3: Refine dataframe to include only selected features for SVM RBF\n",
        "X_final = X_scaled_df[final_features]"
      ]
    },
    {
      "cell_type": "markdown",
      "metadata": {
        "id": "nxKZmoMEpJmE"
      },
      "source": [
        "## Train Model Using SVM and RBF:"
      ]
    },
    {
      "cell_type": "code",
      "execution_count": 37,
      "metadata": {
        "colab": {
          "base_uri": "https://localhost:8080/"
        },
        "id": "gxNvuYUlZNBW",
        "outputId": "fcd2e12e-3e9c-41a6-84fa-2fb703ff2ff8"
      },
      "outputs": [
        {
          "output_type": "stream",
          "name": "stdout",
          "text": [
            "Step 7 complete: SVM with RBF kernel has been trained.\n",
            "Predictions on test set: ['$120,000–$135,000' '$210,000–$225,000' '$180,000–$195,000'\n",
            " '$240,000–$255,000' '$165,000–$180,000' '$120,000–$135,000'\n",
            " '$120,000–$135,000' '$135,000–$150,000' '$180,000–$195,000'\n",
            " '$180,000–$195,000']\n",
            "Classes recognized by the model: ['$105,000–$120,000' '$120,000–$135,000' '$135,000–$150,000'\n",
            " '$150,000–$165,000' '$165,000–$180,000' '$180,000–$195,000'\n",
            " '$195,000–$210,000' '$210,000–$225,000' '$225,000–$240,000'\n",
            " '$240,000–$255,000' '$255,000–$270,000' '$270,000–$285,000'\n",
            " '$285,000–$300,000' '$30,000–$45,000' '$45,000–$60,000' '$60,000–$75,000'\n",
            " '$75,000–$90,000' '$90,000–$105,000']\n"
          ]
        }
      ],
      "source": [
        "from sklearn.model_selection import train_test_split\n",
        "from sklearn.svm import SVC\n",
        "\n",
        "# Step 7 Applying SVM RBF\n",
        "X_train, X_test, y_train, y_test = train_test_split(X_final, y, test_size=0.2, random_state=42, stratify=y)\n",
        "\n",
        "svm_rbf = SVC(kernel='rbf', random_state=42)\n",
        "svm_rbf.fit(X_train, y_train)\n",
        "\n",
        "print(\"Step 7 complete: SVM with RBF kernel has been trained.\")\n",
        "\n",
        "y_pred = svm_rbf.predict(X_test)\n",
        "print(\"Predictions on test set:\", y_pred[:10])  # Shows first 10 predictions\n",
        "\n",
        "print(\"Classes recognized by the model:\", svm_rbf.classes_)"
      ]
    },
    {
      "cell_type": "code",
      "execution_count": 38,
      "metadata": {
        "colab": {
          "base_uri": "https://localhost:8080/"
        },
        "id": "DSH77wGhfsSL",
        "outputId": "2654ef00-a410-4a2e-b6da-84cc71feb0f6"
      },
      "outputs": [
        {
          "output_type": "stream",
          "name": "stdout",
          "text": [
            "\n",
            "Classification Report:\n",
            "\n",
            "                   precision    recall  f1-score   support\n",
            "\n",
            "$105,000–$120,000       0.44      0.42      0.43        26\n",
            "$120,000–$135,000       0.49      0.58      0.53        33\n",
            "$135,000–$150,000       0.45      0.67      0.54        36\n",
            "$150,000–$165,000       0.29      0.15      0.20        27\n",
            "$165,000–$180,000       0.38      0.59      0.46        29\n",
            "$180,000–$195,000       0.36      0.55      0.44        22\n",
            "$195,000–$210,000       0.00      0.00      0.00        15\n",
            "$210,000–$225,000       0.20      0.23      0.21        13\n",
            "$225,000–$240,000       0.36      0.36      0.36        14\n",
            "$240,000–$255,000       0.00      0.00      0.00         8\n",
            "$255,000–$270,000       0.40      0.25      0.31         8\n",
            "$270,000–$285,000       0.00      0.00      0.00         7\n",
            "$285,000–$300,000       0.00      0.00      0.00         3\n",
            "  $30,000–$45,000       0.00      0.00      0.00         1\n",
            "  $45,000–$60,000       0.00      0.00      0.00         2\n",
            "  $60,000–$75,000       0.00      0.00      0.00         2\n",
            "  $75,000–$90,000       0.53      0.73      0.62        11\n",
            " $90,000–$105,000       0.00      0.00      0.00        12\n",
            "\n",
            "         accuracy                           0.39       269\n",
            "        macro avg       0.22      0.25      0.23       269\n",
            "     weighted avg       0.32      0.39      0.35       269\n",
            "\n",
            "\n",
            "Confusion Matrix:\n",
            "\n",
            "[[11  9  0  2  0  0  0  0  0  0  0  0  0  0  0  0  2  2]\n",
            " [ 3 19 10  0  0  1  0  0  0  0  0  0  0  0  0  0  0  0]\n",
            " [ 1  5 24  2  4  0  0  0  0  0  0  0  0  0  0  0  0  0]\n",
            " [ 0  4 12  4  7  0  0  0  0  0  0  0  0  0  0  0  0  0]\n",
            " [ 0  0  3  2 17  6  0  1  0  0  0  0  0  0  0  0  0  0]\n",
            " [ 0  0  2  2  6 12  0  0  0  0  0  0  0  0  0  0  0  0]\n",
            " [ 0  0  0  0  2 10  0  3  0  0  0  0  0  0  0  0  0  0]\n",
            " [ 0  0  0  0  4  2  0  3  2  0  0  2  0  0  0  0  0  0]\n",
            " [ 0  0  0  0  3  0  0  3  5  0  0  3  0  0  0  0  0  0]\n",
            " [ 0  0  0  1  1  2  0  2  1  0  0  1  0  0  0  0  0  0]\n",
            " [ 0  0  0  1  0  0  0  2  3  0  2  0  0  0  0  0  0  0]\n",
            " [ 0  0  1  0  0  0  0  1  2  0  3  0  0  0  0  0  0  0]\n",
            " [ 0  0  0  0  0  0  0  0  1  1  0  1  0  0  0  0  0  0]\n",
            " [ 0  0  0  0  0  0  0  0  0  0  0  0  0  0  0  0  1  0]\n",
            " [ 1  0  0  0  0  0  0  0  0  0  0  0  0  0  0  0  1  0]\n",
            " [ 1  0  0  0  0  0  0  0  0  0  0  0  0  0  0  0  1  0]\n",
            " [ 1  0  0  0  1  0  0  0  0  0  0  0  0  0  0  0  8  1]\n",
            " [ 7  2  1  0  0  0  0  0  0  0  0  0  0  0  0  0  2  0]]\n"
          ]
        },
        {
          "output_type": "stream",
          "name": "stderr",
          "text": [
            "/usr/local/lib/python3.11/dist-packages/sklearn/metrics/_classification.py:1565: UndefinedMetricWarning:\n",
            "\n",
            "Precision is ill-defined and being set to 0.0 in labels with no predicted samples. Use `zero_division` parameter to control this behavior.\n",
            "\n",
            "/usr/local/lib/python3.11/dist-packages/sklearn/metrics/_classification.py:1565: UndefinedMetricWarning:\n",
            "\n",
            "Precision is ill-defined and being set to 0.0 in labels with no predicted samples. Use `zero_division` parameter to control this behavior.\n",
            "\n",
            "/usr/local/lib/python3.11/dist-packages/sklearn/metrics/_classification.py:1565: UndefinedMetricWarning:\n",
            "\n",
            "Precision is ill-defined and being set to 0.0 in labels with no predicted samples. Use `zero_division` parameter to control this behavior.\n",
            "\n"
          ]
        }
      ],
      "source": [
        "from sklearn.metrics import classification_report, confusion_matrix\n",
        "\n",
        "print(\"\\nClassification Report:\\n\")\n",
        "print(classification_report(y_test, y_pred))\n",
        "\n",
        "print(\"\\nConfusion Matrix:\\n\")\n",
        "print(confusion_matrix(y_test, y_pred))"
      ]
    },
    {
      "cell_type": "code",
      "execution_count": 39,
      "metadata": {
        "colab": {
          "base_uri": "https://localhost:8080/"
        },
        "id": "UWYvUGPo4Bka",
        "outputId": "e5556a30-9540-42e9-de78-b4ef9575c757"
      },
      "outputs": [
        {
          "output_type": "stream",
          "name": "stdout",
          "text": [
            "Fitting 5 folds for each of 9 candidates, totalling 45 fits\n",
            "[CV] END .........classifier__C=0.1, classifier__gamma=scale; total time=   0.1s\n"
          ]
        },
        {
          "output_type": "stream",
          "name": "stderr",
          "text": [
            "/usr/local/lib/python3.11/dist-packages/sklearn/model_selection/_split.py:805: UserWarning:\n",
            "\n",
            "The least populated class in y has only 4 members, which is less than n_splits=5.\n",
            "\n"
          ]
        },
        {
          "output_type": "stream",
          "name": "stdout",
          "text": [
            "[CV] END .........classifier__C=0.1, classifier__gamma=scale; total time=   0.1s\n",
            "[CV] END .........classifier__C=0.1, classifier__gamma=scale; total time=   0.1s\n",
            "[CV] END .........classifier__C=0.1, classifier__gamma=scale; total time=   0.1s\n",
            "[CV] END .........classifier__C=0.1, classifier__gamma=scale; total time=   0.1s\n",
            "[CV] END ...........classifier__C=0.1, classifier__gamma=0.1; total time=   0.1s\n",
            "[CV] END ...........classifier__C=0.1, classifier__gamma=0.1; total time=   0.1s\n",
            "[CV] END ...........classifier__C=0.1, classifier__gamma=0.1; total time=   0.1s\n",
            "[CV] END ...........classifier__C=0.1, classifier__gamma=0.1; total time=   0.1s\n",
            "[CV] END ...........classifier__C=0.1, classifier__gamma=0.1; total time=   0.1s\n",
            "[CV] END ..........classifier__C=0.1, classifier__gamma=0.01; total time=   0.1s\n",
            "[CV] END ..........classifier__C=0.1, classifier__gamma=0.01; total time=   0.1s\n",
            "[CV] END ..........classifier__C=0.1, classifier__gamma=0.01; total time=   0.1s\n",
            "[CV] END ..........classifier__C=0.1, classifier__gamma=0.01; total time=   0.1s\n",
            "[CV] END ..........classifier__C=0.1, classifier__gamma=0.01; total time=   0.1s\n",
            "[CV] END ...........classifier__C=1, classifier__gamma=scale; total time=   0.1s\n",
            "[CV] END ...........classifier__C=1, classifier__gamma=scale; total time=   0.1s\n",
            "[CV] END ...........classifier__C=1, classifier__gamma=scale; total time=   0.1s\n",
            "[CV] END ...........classifier__C=1, classifier__gamma=scale; total time=   0.1s\n",
            "[CV] END ...........classifier__C=1, classifier__gamma=scale; total time=   0.1s\n",
            "[CV] END .............classifier__C=1, classifier__gamma=0.1; total time=   0.1s\n",
            "[CV] END .............classifier__C=1, classifier__gamma=0.1; total time=   0.1s\n",
            "[CV] END .............classifier__C=1, classifier__gamma=0.1; total time=   0.2s\n",
            "[CV] END .............classifier__C=1, classifier__gamma=0.1; total time=   0.1s\n",
            "[CV] END .............classifier__C=1, classifier__gamma=0.1; total time=   0.1s\n",
            "[CV] END ............classifier__C=1, classifier__gamma=0.01; total time=   0.1s\n",
            "[CV] END ............classifier__C=1, classifier__gamma=0.01; total time=   0.1s\n",
            "[CV] END ............classifier__C=1, classifier__gamma=0.01; total time=   0.1s\n",
            "[CV] END ............classifier__C=1, classifier__gamma=0.01; total time=   0.1s\n",
            "[CV] END ............classifier__C=1, classifier__gamma=0.01; total time=   0.1s\n",
            "[CV] END ..........classifier__C=10, classifier__gamma=scale; total time=   0.2s\n",
            "[CV] END ..........classifier__C=10, classifier__gamma=scale; total time=   0.2s\n",
            "[CV] END ..........classifier__C=10, classifier__gamma=scale; total time=   0.2s\n",
            "[CV] END ..........classifier__C=10, classifier__gamma=scale; total time=   0.2s\n",
            "[CV] END ..........classifier__C=10, classifier__gamma=scale; total time=   0.2s\n",
            "[CV] END ............classifier__C=10, classifier__gamma=0.1; total time=   0.2s\n",
            "[CV] END ............classifier__C=10, classifier__gamma=0.1; total time=   0.2s\n",
            "[CV] END ............classifier__C=10, classifier__gamma=0.1; total time=   0.2s\n",
            "[CV] END ............classifier__C=10, classifier__gamma=0.1; total time=   0.2s\n",
            "[CV] END ............classifier__C=10, classifier__gamma=0.1; total time=   0.2s\n",
            "[CV] END ...........classifier__C=10, classifier__gamma=0.01; total time=   0.1s\n",
            "[CV] END ...........classifier__C=10, classifier__gamma=0.01; total time=   0.1s\n",
            "[CV] END ...........classifier__C=10, classifier__gamma=0.01; total time=   0.1s\n",
            "[CV] END ...........classifier__C=10, classifier__gamma=0.01; total time=   0.1s\n",
            "[CV] END ...........classifier__C=10, classifier__gamma=0.01; total time=   0.1s\n",
            "Best Hyperparameters: {'classifier__C': 10, 'classifier__gamma': 0.01}\n",
            "Best Cross-validation Accuracy: 0.40425064599483207\n",
            "\n",
            "Test Set Classification Report:\n",
            "                    precision    recall  f1-score   support\n",
            "\n",
            "$105,000–$120,000       0.37      0.27      0.31        26\n",
            "$120,000–$135,000       0.48      0.61      0.53        33\n",
            "$135,000–$150,000       0.44      0.56      0.49        36\n",
            "$150,000–$165,000       0.31      0.15      0.20        27\n",
            "$165,000–$180,000       0.43      0.52      0.47        29\n",
            "$180,000–$195,000       0.36      0.59      0.45        22\n",
            "$195,000–$210,000       0.33      0.13      0.19        15\n",
            "$210,000–$225,000       0.27      0.23      0.25        13\n",
            "$225,000–$240,000       0.38      0.43      0.40        14\n",
            "$240,000–$255,000       0.25      0.12      0.17         8\n",
            "$255,000–$270,000       0.33      0.25      0.29         8\n",
            "$270,000–$285,000       0.11      0.14      0.12         7\n",
            "$285,000–$300,000       1.00      0.33      0.50         3\n",
            "  $30,000–$45,000       0.00      0.00      0.00         1\n",
            "  $45,000–$60,000       0.25      0.50      0.33         2\n",
            "  $60,000–$75,000       0.00      0.00      0.00         2\n",
            "  $75,000–$90,000       0.40      0.36      0.38        11\n",
            " $90,000–$105,000       0.33      0.25      0.29        12\n",
            "\n",
            "         accuracy                           0.38       269\n",
            "        macro avg       0.34      0.30      0.30       269\n",
            "     weighted avg       0.38      0.38      0.37       269\n",
            "\n",
            "\n",
            "Test Set Confusion Matrix:\n",
            " [[ 7 10  2  1  0  0  0  0  0  0  0  0  0  0  0  0  3  3]\n",
            " [ 3 20  8  0  1  0  0  0  0  0  0  0  0  0  0  0  0  1]\n",
            " [ 1  8 20  3  3  1  0  0  0  0  0  0  0  0  0  0  0  0]\n",
            " [ 0  3 12  4  7  0  0  0  1  0  0  0  0  0  0  0  0  0]\n",
            " [ 0  0  2  3 15  6  1  2  0  0  0  0  0  0  0  0  0  0]\n",
            " [ 0  0  1  1  5 13  1  1  0  0  0  0  0  0  0  0  0  0]\n",
            " [ 0  0  0  0  0 11  2  1  0  0  1  0  0  0  0  0  0  0]\n",
            " [ 0  0  0  0  4  1  1  3  2  0  0  2  0  0  0  0  0  0]\n",
            " [ 0  0  0  1  0  1  0  2  6  1  0  3  0  0  0  0  0  0]\n",
            " [ 0  0  0  0  0  2  0  1  0  1  2  2  0  0  0  0  0  0]\n",
            " [ 0  1  0  0  0  0  0  0  5  0  2  0  0  0  0  0  0  0]\n",
            " [ 0  0  0  0  0  0  1  1  2  1  1  1  0  0  0  0  0  0]\n",
            " [ 0  0  0  0  0  0  0  0  0  1  0  1  1  0  0  0  0  0]\n",
            " [ 0  0  0  0  0  0  0  0  0  0  0  0  0  0  1  0  0  0]\n",
            " [ 1  0  0  0  0  0  0  0  0  0  0  0  0  0  1  0  0  0]\n",
            " [ 1  0  0  0  0  0  0  0  0  0  0  0  0  0  1  0  0  0]\n",
            " [ 0  0  0  0  0  1  0  0  0  0  0  0  0  0  1  3  4  2]\n",
            " [ 6  0  0  0  0  0  0  0  0  0  0  0  0  0  0  0  3  3]]\n"
          ]
        },
        {
          "output_type": "stream",
          "name": "stderr",
          "text": [
            "/usr/local/lib/python3.11/dist-packages/sklearn/metrics/_classification.py:1565: UndefinedMetricWarning:\n",
            "\n",
            "Precision is ill-defined and being set to 0.0 in labels with no predicted samples. Use `zero_division` parameter to control this behavior.\n",
            "\n",
            "/usr/local/lib/python3.11/dist-packages/sklearn/metrics/_classification.py:1565: UndefinedMetricWarning:\n",
            "\n",
            "Precision is ill-defined and being set to 0.0 in labels with no predicted samples. Use `zero_division` parameter to control this behavior.\n",
            "\n",
            "/usr/local/lib/python3.11/dist-packages/sklearn/metrics/_classification.py:1565: UndefinedMetricWarning:\n",
            "\n",
            "Precision is ill-defined and being set to 0.0 in labels with no predicted samples. Use `zero_division` parameter to control this behavior.\n",
            "\n"
          ]
        }
      ],
      "source": [
        "from sklearn.model_selection import train_test_split, GridSearchCV, StratifiedKFold\n",
        "from sklearn.svm import SVC\n",
        "from sklearn.metrics import classification_report, confusion_matrix\n",
        "from sklearn.pipeline import Pipeline\n",
        "from sklearn.preprocessing import StandardScaler\n",
        "\n",
        "# Step 8 Model Evaluation\n",
        "# 4. HYPERPARAMETER TUNING with CROSS-VALIDATION\n",
        "# Use a Pipeline to include StandardScaler within the GridSearchCV\n",
        "pipeline = Pipeline([\n",
        "    ('scaler', StandardScaler()), # Although data is already scaled, keeping this in pipeline for robustness\n",
        "    ('classifier', SVC(kernel='rbf', random_state=42))\n",
        "])\n",
        "\n",
        "param_grid = {\n",
        "    'classifier__C': [0.1, 1, 10],\n",
        "    'classifier__gamma': ['scale', 0.1, 0.01]\n",
        "}\n",
        "cv = StratifiedKFold(n_splits=5, shuffle=True, random_state=42)\n",
        "\n",
        "grid_search = GridSearchCV(pipeline, param_grid, cv=cv, scoring='accuracy', verbose=2)\n",
        "grid_search.fit(X_train, y_train)\n",
        "\n",
        "print(\"Best Hyperparameters:\", grid_search.best_params_)\n",
        "print(\"Best Cross-validation Accuracy:\", grid_search.best_score_)\n",
        "\n",
        "# 5. FINAL TEST SET EVALUATION (this is your last, unbiased check)\n",
        "final_model = grid_search.best_estimator_\n",
        "\n",
        "y_pred = final_model.predict(X_test)\n",
        "\n",
        "print(\"\\nTest Set Classification Report:\\n\", classification_report(y_test, y_pred))\n",
        "print(\"\\nTest Set Confusion Matrix:\\n\", confusion_matrix(y_test, y_pred))"
      ]
    }
  ],
  "metadata": {
    "colab": {
      "provenance": []
    },
    "kernelspec": {
      "display_name": "Python 3",
      "name": "python3"
    },
    "language_info": {
      "name": "python"
    }
  },
  "nbformat": 4,
  "nbformat_minor": 0
}