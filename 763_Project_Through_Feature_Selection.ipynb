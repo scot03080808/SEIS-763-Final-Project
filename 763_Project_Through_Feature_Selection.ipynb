{
  "cells": [
    {
      "cell_type": "markdown",
      "metadata": {
        "id": "aIyZE7-rTpL-"
      },
      "source": [
        "# SEIS-763 Group Project include group member names with an introduction explaining what problem we are solving (NEEDS REVISION)\n",
        "- We are a state program that provides low interest loans to low income family.  \n",
        "- The maximum amount that we are allowed to approve on a loan is $300,000\n",
        "- Default rates tend to be high and we have a limited budget, therefore our goal is to maximize the amount allocated to our agency by predicting home values based on a multitude of different predictors in order to best mitigate loss if a home goes into default and maximize purchasing power to help as many families as possible.  "
      ]
    },
    {
      "cell_type": "markdown",
      "metadata": {},
      "source": [
        "## Test"
      ]
    },
    {
      "cell_type": "code",
      "execution_count": null,
      "metadata": {
        "colab": {
          "base_uri": "https://localhost:8080/"
        },
        "id": "O3wJZHI1dPxS",
        "outputId": "1e8ec59a-815c-4b75-d33d-e4a86c5e923d"
      },
      "outputs": [
        {
          "name": "stdout",
          "output_type": "stream",
          "text": [
            "Drive already mounted at /content/drive; to attempt to forcibly remount, call drive.mount(\"/content/drive\", force_remount=True).\n"
          ]
        }
      ],
      "source": [
        "from google.colab import drive\n",
        "drive.mount('/content/drive')"
      ]
    },
    {
      "cell_type": "markdown",
      "metadata": {},
      "source": [
        "## David Test"
      ]
    },
    {
      "cell_type": "code",
      "execution_count": 460,
      "metadata": {
        "id": "Y6UxlWJWVMA0"
      },
      "outputs": [],
      "source": [
        "import pandas as pd\n",
        "import numpy as np\n",
        "import matplotlib.pyplot as plt\n",
        "from sklearn.model_selection import train_test_split\n",
        "from sklearn.preprocessing import StandardScaler, OneHotEncoder\n",
        "from sklearn.compose import ColumnTransformer\n",
        "from sklearn.pipeline import Pipeline\n",
        "from sklearn.svm import SVC\n",
        "from sklearn.metrics import classification_report"
      ]
    },
    {
      "cell_type": "code",
      "execution_count": 461,
      "metadata": {
        "id": "iF39hu3lPjgn"
      },
      "outputs": [],
      "source": [
        "import pandas as pd\n",
        "import numpy as np\n",
        "\n",
        "file_path = '/content/drive/MyDrive/train.csv'\n",
        "df = pd.read_csv(file_path)"
      ]
    },
    {
      "cell_type": "code",
      "execution_count": 462,
      "metadata": {
        "colab": {
          "base_uri": "https://localhost:8080/"
        },
        "id": "whtpQHB5Q3Yw",
        "outputId": "a2c50243-b655-441e-b980-0052ba74bf9a"
      },
      "outputs": [
        {
          "name": "stdout",
          "output_type": "stream",
          "text": [
            "Number of rows in the dataset: (1460, 81)\n",
            "   Id  MSSubClass MSZoning  LotFrontage  LotArea Street Alley LotShape  \\\n",
            "0   1          60       RL         65.0     8450   Pave   NaN      Reg   \n",
            "1   2          20       RL         80.0     9600   Pave   NaN      Reg   \n",
            "2   3          60       RL         68.0    11250   Pave   NaN      IR1   \n",
            "3   4          70       RL         60.0     9550   Pave   NaN      IR1   \n",
            "4   5          60       RL         84.0    14260   Pave   NaN      IR1   \n",
            "\n",
            "  LandContour Utilities  ... PoolArea PoolQC Fence MiscFeature MiscVal MoSold  \\\n",
            "0         Lvl    AllPub  ...        0    NaN   NaN         NaN       0      2   \n",
            "1         Lvl    AllPub  ...        0    NaN   NaN         NaN       0      5   \n",
            "2         Lvl    AllPub  ...        0    NaN   NaN         NaN       0      9   \n",
            "3         Lvl    AllPub  ...        0    NaN   NaN         NaN       0      2   \n",
            "4         Lvl    AllPub  ...        0    NaN   NaN         NaN       0     12   \n",
            "\n",
            "  YrSold  SaleType  SaleCondition  SalePrice  \n",
            "0   2008        WD         Normal     208500  \n",
            "1   2007        WD         Normal     181500  \n",
            "2   2008        WD         Normal     223500  \n",
            "3   2006        WD        Abnorml     140000  \n",
            "4   2008        WD         Normal     250000  \n",
            "\n",
            "[5 rows x 81 columns]\n"
          ]
        }
      ],
      "source": [
        "num_rows = df.shape\n",
        "print(f\"Number of rows in the dataset: {num_rows}\")\n",
        "print(df.head())"
      ]
    },
    {
      "cell_type": "markdown",
      "metadata": {
        "id": "BXim8TYxUjKz"
      },
      "source": [
        "### Drop any rows that are missing a 'SalePrice' value prior to classification (David-Start)"
      ]
    },
    {
      "cell_type": "code",
      "execution_count": 463,
      "metadata": {
        "colab": {
          "base_uri": "https://localhost:8080/"
        },
        "id": "_kpodaSBAs7q",
        "outputId": "55d95900-0abe-48cb-9d8a-2a94013086aa"
      },
      "outputs": [
        {
          "name": "stdout",
          "output_type": "stream",
          "text": [
            "(1460, 81)\n"
          ]
        }
      ],
      "source": [
        "df = df.dropna(subset=['SalePrice'])\n",
        "print(df.shape)"
      ]
    },
    {
      "cell_type": "markdown",
      "metadata": {
        "id": "I1e3GkA9agmz"
      },
      "source": [
        "### Create a Histogram and a Boxplot of the SalePrice using the dataset to determine the price range of our classes.  "
      ]
    },
    {
      "cell_type": "code",
      "execution_count": 464,
      "metadata": {
        "colab": {
          "base_uri": "https://localhost:8080/",
          "height": 726
        },
        "id": "4lEkF58NbFEO",
        "outputId": "4de4f261-a2ec-4c0d-9fcc-34f674ce9fed"
      },
      "outputs": [
        {
          "data": {
            "image/png": "[encoded data removed]",
            "text/plain": [
              "<Figure size 1000x500 with 1 Axes>"
            ]
          },
          "metadata": {},
          "output_type": "display_data"
        },
        {
          "data": {
            "image/png": "[encoded data removed]",
            "text/plain": [
              "<Figure size 1000x200 with 1 Axes>"
            ]
          },
          "metadata": {},
          "output_type": "display_data"
        }
      ],
      "source": [
        "\n",
        "# Plot a histogram of SalePrice\n",
        "plt.figure(figsize=(10, 5))\n",
        "plt.hist(df['SalePrice'], bins=50, edgecolor='black')\n",
        "plt.title('Histogram of SalePrice')\n",
        "plt.xlabel('SalePrice')\n",
        "plt.ylabel('Number of Homes')\n",
        "plt.grid(axis='y', alpha=0.5)\n",
        "plt.show()\n",
        "\n",
        "# Plot a boxplot of SalePrice\n",
        "plt.figure(figsize=(10, 2))\n",
        "plt.boxplot(df['SalePrice'], vert=False, patch_artist=True)\n",
        "plt.title('Boxplot of SalePrice')\n",
        "plt.xlabel('SalePrice')\n",
        "plt.show()\n"
      ]
    },
    {
      "cell_type": "markdown",
      "metadata": {
        "id": "leLxEZpll0Ga"
      },
      "source": [
        "### Remove Outliers on our Target (SalePrice) Based on Low Interest Government Financing to Low Income Families"
      ]
    },
    {
      "cell_type": "code",
      "execution_count": 465,
      "metadata": {
        "colab": {
          "base_uri": "https://localhost:8080/"
        },
        "id": "o9vCIJxOAu3U",
        "outputId": "2e5dfa00-6c70-4134-aabc-9c5d1a148dca"
      },
      "outputs": [
        {
          "name": "stdout",
          "output_type": "stream",
          "text": [
            "lower: 3937.5 upper: 300000.0\n",
            "{'SalePrice': (np.float64(3937.5), np.float64(300000.0))}\n"
          ]
        }
      ],
      "source": [
        "outliers = {}\n",
        "q1 = df['SalePrice'].quantile(0.25)\n",
        "q3 = df['SalePrice'].quantile(0.75)\n",
        "iqr = q3 - q1\n",
        "lower = q1 - 1.5 * iqr\n",
        "upper = q3 + 1.5 * iqr\n",
        "\n",
        "# Set upper limit to $300,000 due to Organizational Business Rules\n",
        "mortgage_upper = np.float64(300000)\n",
        "outliers['SalePrice'] = (lower, mortgage_upper)\n",
        "print(f'lower: {lower} upper: {mortgage_upper}')\n",
        "print(outliers)"
      ]
    },
    {
      "cell_type": "markdown",
      "metadata": {
        "id": "_T92KPT2vs38"
      },
      "source": [
        "## Use Classification on the SalePrice column (target) over predicting SalePrice Directly we have determined provides the following:\n",
        "\n",
        "\n"
      ]
    },
    {
      "cell_type": "markdown",
      "metadata": {
        "id": "u2j_HGy_wQW8"
      },
      "source": [
        "### Risk Management:\n",
        "- Price bins clearly correlate to risk and affordability, helping loan officers make better lending decisions.\n",
        "- Predicting a range is easier and more actionable than pinpointing exact home price, especially given limited data (1,500 records)."
      ]
    },
    {
      "cell_type": "markdown",
      "metadata": {
        "id": "n85bCVQZwcRb"
      },
      "source": [
        "### Interpretability:\n",
        "- Price categories are easily explained to non-technical stakeholders (loan officers, regulators, buyers).\n"
      ]
    },
    {
      "cell_type": "markdown",
      "metadata": {
        "id": "-0_71FMUwh9w"
      },
      "source": [
        "### Robustness and Stability\n",
        "- Predicting precise numeric prices is harder due to high variability and data noise.\n",
        "- Classification stabilizes predictions into clearly actionable bins."
      ]
    },
    {
      "cell_type": "code",
      "execution_count": 466,
      "metadata": {
        "colab": {
          "base_uri": "https://localhost:8080/"
        },
        "id": "HY8rdCVXVYZV",
        "outputId": "7175b70f-136c-4654-c298-a05d3b30c333"
      },
      "outputs": [
        {
          "name": "stdout",
          "output_type": "stream",
          "text": [
            "PriceCategory\n",
            "Under $100K    123\n",
            "$100K–$150K    496\n",
            "$150K–$200K    414\n",
            "$200K–$250K    210\n",
            "$250K–$300K    102\n",
            "Name: count, dtype: int64\n"
          ]
        }
      ],
      "source": [
        "# Step 1: Create meaningful, fixed bins\n",
        "bins = [0, 100000, 150000, 200000, 250000, 300000]\n",
        "labels = [\n",
        "    'Under $100K',\n",
        "    '$100K–$150K',\n",
        "    '$150K–$200K',\n",
        "    '$200K–$250K',\n",
        "    '$250K–$300K'\n",
        "]\n",
        "\n",
        "df['PriceCategory'] = pd.cut(df['SalePrice'], bins=bins, labels=labels, include_lowest=True)\n",
        "\n",
        "# Step 2: Filter out any rows where binning failed (NaN)\n",
        "df = df[df['PriceCategory'].notna()]\n",
        "\n",
        "# Step 3: One-hot encode other categorical variables, but NOT PriceCategory as it's the target\n",
        "# Identify categorical columns to encode (excluding PriceCategory)\n",
        "categorical_cols_to_encode = df.select_dtypes(include=['object', 'category']).columns.tolist()\n",
        "if 'PriceCategory' in categorical_cols_to_encode:\n",
        "    categorical_cols_to_encode.remove('PriceCategory')\n",
        "\n",
        "# Apply one-hot encoding to the selected categorical columns\n",
        "df = pd.get_dummies(df, columns=categorical_cols_to_encode, prefix='PC')\n",
        "\n",
        "# Quickly check the distribution of the target variable BEFORE one-hot encoding it\n",
        "print(df['PriceCategory'].value_counts().sort_index())"
      ]
    },
    {
      "cell_type": "code",
      "execution_count": 467,
      "metadata": {
        "colab": {
          "base_uri": "https://localhost:8080/",
          "height": 507
        },
        "id": "F9T5f_t506Xn",
        "outputId": "6487e849-5138-47fc-e66b-fcfdbffb68ea"
      },
      "outputs": [
        {
          "data": {
            "image/png": "[encoded data removed]",
            "text/plain": [
              "<Figure size 800x500 with 1 Axes>"
            ]
          },
          "metadata": {},
          "output_type": "display_data"
        }
      ],
      "source": [
        "import pandas as pd\n",
        "import matplotlib.pyplot as plt\n",
        "\n",
        "plt.figure(figsize=(8, 5))\n",
        "bin_counts.plot(kind='barh')  # <-- horizontal bars\n",
        "plt.ylabel('Price Bin')       # Bin labels on Y axis\n",
        "plt.xlabel('Number of Records')\n",
        "plt.title('Number of Records per Price Bin')\n",
        "plt.tight_layout()\n",
        "plt.show()"
      ]
    },
    {
      "cell_type": "markdown",
      "metadata": {
        "id": "RhE5j8kNynEQ"
      },
      "source": [
        "## Finished With Classifying the Target"
      ]
    },
    {
      "cell_type": "code",
      "execution_count": 468,
      "metadata": {
        "colab": {
          "base_uri": "https://localhost:8080/"
        },
        "id": "RfP04StcDkah",
        "outputId": "e40062b6-aaaf-417b-bb80-d6e060427533"
      },
      "outputs": [
        {
          "name": "stdout",
          "output_type": "stream",
          "text": [
            "After dropping duplicates: The number of rows:  (1345, 288)\n"
          ]
        }
      ],
      "source": [
        "# Drop dupilicate data\n",
        "df = df.drop_duplicates()\n",
        "print (\"After dropping duplicates: The number of rows: \", df.shape)"
      ]
    },
    {
      "cell_type": "code",
      "execution_count": 469,
      "metadata": {
        "id": "52UVUgfx2wFd"
      },
      "outputs": [],
      "source": [
        "# Fill in missing data for numerical columns with 0\n",
        "numerical_cols = df.select_dtypes(include=np.number).columns\n",
        "df[numerical_cols] = df[numerical_cols].fillna(0)"
      ]
    },
    {
      "cell_type": "code",
      "execution_count": 470,
      "metadata": {
        "colab": {
          "base_uri": "https://localhost:8080/"
        },
        "id": "3H0H4PfIDLKB",
        "outputId": "9b2e7ea8-d0a4-442e-eda0-c8f93c0d3d49"
      },
      "outputs": [
        {
          "name": "stdout",
          "output_type": "stream",
          "text": [
            "Id             0\n",
            "MSSubClass     0\n",
            "LotFrontage    0\n",
            "LotArea        0\n",
            "OverallQual    0\n",
            "              ..\n",
            "PC_AdjLand     0\n",
            "PC_Alloca      0\n",
            "PC_Family      0\n",
            "PC_Normal      0\n",
            "PC_Partial     0\n",
            "Length: 288, dtype: int64\n"
          ]
        }
      ],
      "source": [
        "# Verify the missing data are gone\n",
        "print(df.isnull().sum())"
      ]
    },
    {
      "cell_type": "code",
      "execution_count": 446,
      "metadata": {
        "colab": {
          "base_uri": "https://localhost:8080/"
        },
        "id": "qBx8TOk27AfY",
        "outputId": "25a58b6e-dff0-4a9a-8b6c-8c9c70589898"
      },
      "outputs": [
        {
          "name": "stdout",
          "output_type": "stream",
          "text": [
            "0\n"
          ]
        }
      ],
      "source": [
        "# Find the missing data\n",
        "total_missing = df.isnull().sum().sum()\n",
        "print(total_missing)"
      ]
    },
    {
      "cell_type": "code",
      "execution_count": 471,
      "metadata": {
        "colab": {
          "base_uri": "https://localhost:8080/"
        },
        "id": "f18iB7LoAtci",
        "outputId": "5608ec79-7874-4ab4-8743-8a82da899a60"
      },
      "outputs": [
        {
          "name": "stdout",
          "output_type": "stream",
          "text": [
            "['Id', 'MSSubClass', 'LotFrontage', 'LotArea', 'OverallQual', 'OverallCond', 'YearBuilt', 'YearRemodAdd', 'MasVnrArea', 'BsmtFinSF1', 'BsmtFinSF2', 'BsmtUnfSF', 'TotalBsmtSF', '1stFlrSF', '2ndFlrSF', 'LowQualFinSF', 'GrLivArea', 'BsmtFullBath', 'BsmtHalfBath', 'FullBath', 'HalfBath', 'BedroomAbvGr', 'KitchenAbvGr', 'TotRmsAbvGrd', 'Fireplaces', 'GarageYrBlt', 'GarageCars', 'GarageArea', 'WoodDeckSF', 'OpenPorchSF', 'EnclosedPorch', '3SsnPorch', 'ScreenPorch', 'PoolArea', 'MiscVal', 'MoSold', 'YrSold', 'SalePrice']\n"
          ]
        }
      ],
      "source": [
        "numerical_columns = df.select_dtypes(include=['int64', 'float64']).columns.tolist()\n",
        "print(numerical_columns)"
      ]
    },
    {
      "cell_type": "code",
      "execution_count": 474,
      "metadata": {
        "id": "FXB4zT_h9kjz"
      },
      "outputs": [],
      "source": [
        "import scipy.stats as stats\n",
        "\n",
        "df[numerical_columns] = df[numerical_columns].apply(stats.zscore)"
      ]
    },
    {
      "cell_type": "code",
      "execution_count": 473,
      "metadata": {
        "colab": {
          "base_uri": "https://localhost:8080/"
        },
        "id": "ynFLgu72-zH2",
        "outputId": "c08e9b80-b2af-48f0-dca2-05a318c9584e"
      },
      "outputs": [
        {
          "name": "stdout",
          "output_type": "stream",
          "text": [
            "[]\n"
          ]
        }
      ],
      "source": [
        "other_columns = df.select_dtypes(include=['object']).columns.tolist()\n",
        "print(other_columns)"
      ]
    },
    {
      "cell_type": "code",
      "execution_count": 475,
      "metadata": {
        "colab": {
          "base_uri": "https://localhost:8080/"
        },
        "id": "4zh5SDq2_FhU",
        "outputId": "13361cbd-d082-4214-db41-4a5f747a7e2c"
      },
      "outputs": [
        {
          "name": "stdout",
          "output_type": "stream",
          "text": [
            "(1345, 288)\n",
            "         Id  MSSubClass  LotFrontage   LotArea  OverallQual  OverallCond  \\\n",
            "0 -1.743033    0.050876     0.274945 -0.193558     0.909599    -0.536151   \n",
            "1 -1.740665   -0.873827     0.714383 -0.048908     0.086862     2.141285   \n",
            "2 -1.738296    0.050876     0.362833  0.158633     0.909599    -0.536151   \n",
            "3 -1.735927    0.282052     0.128466 -0.055197     0.909599    -0.536151   \n",
            "4 -1.733558    0.050876     0.831566  0.537238     1.732337    -0.536151   \n",
            "\n",
            "   YearBuilt  YearRemodAdd  MasVnrArea  BsmtFinSF1  ...  PC_ConLw  PC_New  \\\n",
            "0   1.136931      0.950494    0.745415    0.732869  ...     False   False   \n",
            "1   0.232611     -0.353912   -0.542062    1.387902  ...     False   False   \n",
            "2   1.069944      0.902183    0.522077    0.203063  ...     False   False   \n",
            "3  -1.810483     -0.643780   -0.542062   -0.447153  ...     False   False   \n",
            "4   1.036451      0.805560    1.757003    0.610050  ...     False   False   \n",
            "\n",
            "   PC_Oth  PC_WD  PC_Abnorml  PC_AdjLand  PC_Alloca  PC_Family  PC_Normal  \\\n",
            "0   False   True       False       False      False      False       True   \n",
            "1   False   True       False       False      False      False       True   \n",
            "2   False   True       False       False      False      False       True   \n",
            "3   False   True        True       False      False      False      False   \n",
            "4   False   True       False       False      False      False       True   \n",
            "\n",
            "   PC_Partial  \n",
            "0       False  \n",
            "1       False  \n",
            "2       False  \n",
            "3       False  \n",
            "4       False  \n",
            "\n",
            "[5 rows x 288 columns]\n",
            "0\n",
            "Id             0\n",
            "MSSubClass     0\n",
            "LotFrontage    0\n",
            "LotArea        0\n",
            "OverallQual    0\n",
            "              ..\n",
            "PC_AdjLand     0\n",
            "PC_Alloca      0\n",
            "PC_Family      0\n",
            "PC_Normal      0\n",
            "PC_Partial     0\n",
            "Length: 288, dtype: int64\n"
          ]
        }
      ],
      "source": [
        "df = pd.get_dummies(df, columns=other_columns, drop_first=True)\n",
        "print(df.shape)\n",
        "print(df.head())\n",
        "\n",
        "print(df.isnull().sum().sum())  # Total missing values\n",
        "print(df.isnull().sum())        # Missing values per column"
      ]
    },
    {
      "cell_type": "code",
      "execution_count": 476,
      "metadata": {
        "colab": {
          "base_uri": "https://localhost:8080/"
        },
        "id": "UWqgKoToAw_S",
        "outputId": "322070b4-8f4b-4d3f-a4bd-84f6e10242b4"
      },
      "outputs": [
        {
          "name": "stdout",
          "output_type": "stream",
          "text": [
            "Attempting to revert PriceCategory one-hot encoding if it occurred.\n",
            "(1345, 288)\n"
          ]
        }
      ],
      "source": [
        "# Create a copy of the DataFrame to work with for filtering and subsequent steps.\n",
        "# The outlier filtering based on the 'outliers' dictionary is removed here\n",
        "# as it was causing the DataFrame to become empty when applied after standardization.\n",
        "# Outlier handling should be considered carefully in the context of the classification task\n",
        "# and applied appropriately, possibly during preprocessing or as part of model training.\n",
        "df_filtered = df.copy()\n",
        "\n",
        "# Ensure PriceCategory is present for subsequent steps, assuming it was created earlier\n",
        "if 'PriceCategory' not in df_filtered.columns:\n",
        "    print(\"Warning: 'PriceCategory' column not found. Please ensure it was created in a previous step.\")\n",
        "    # If PriceCategory is critical and missing, you might need to recreate it or stop.\n",
        "    # For now, assuming it was created and might have been dropped by get_dummies if not handled.\n",
        "    # If get_dummies was applied to PriceCategory, you should work with the dummy columns instead.\n",
        "    # Based on the notebook structure, PriceCategory is used as the target 'y', so it should NOT be one-hot encoded at this stage.\n",
        "    # I will revert the one-hot encoding of PriceCategory from cell HY8rdCVXVYZV if it was applied there prematurely.\n",
        "    # Looking back at HY8rdCVXVYZV, it *does* one-hot encode PriceCategory. This is incorrect for using PriceCategory as the target 'y'.\n",
        "    # I will modify HY8rdCVXVYZV to *not* one-hot encode PriceCategory.\n",
        "\n",
        "# Reverting premature one-hot encoding of PriceCategory from cell HY8rdCVXVYZV\n",
        "# Check if the dummy columns for PriceCategory exist and revert if necessary\n",
        "pc_dummy_cols = [col for col in df_filtered.columns if col.startswith('PC_')]\n",
        "if pc_dummy_cols:\n",
        "    # Assuming the original PriceCategory column might have been dropped, try to infer it\n",
        "    # This is a complex situation due to the notebook state.\n",
        "    # A better approach is to fix the one-hot encoding in HY8rdCVXVYZV directly.\n",
        "    print(\"Attempting to revert PriceCategory one-hot encoding if it occurred.\")\n",
        "    # I will rely on fixing HY8rdCVXVYZV to not one-hot encode PriceCategory.\n",
        "    # For now, just ensure df_filtered is a copy and the problematic filtering is removed.\n",
        "    pass # The fix is primarily removing the filtering line.\n",
        "\n",
        "\n",
        "# This print was redundant with the cell above\n",
        "# print(df.shape)\n",
        "\n",
        "print(df_filtered.shape)\n",
        "\n",
        "\n",
        "# Theisnull().sum().sum() and isnull().sum() checks are useful but can be done later\n",
        "# after more comprehensive missing value handling.\n",
        "# print(df_filtered.isnull().sum().sum())  # Total missing values\n",
        "# print(df_filtered.isnull().sum())        # Missing values per column"
      ]
    },
    {
      "cell_type": "markdown",
      "metadata": {
        "id": "Ii_ovaV7NxBw"
      },
      "source": [
        "## Splitting Predictors, Dropping Highly Correlated Columns, and Standardizing"
      ]
    },
    {
      "cell_type": "code",
      "execution_count": 478,
      "metadata": {
        "colab": {
          "base_uri": "https://localhost:8080/"
        },
        "id": "hBDdVyUUOP9T",
        "outputId": "7a10fc1d-3a21-4fe3-f60e-ffdda87f90ac"
      },
      "outputs": [
        {
          "name": "stdout",
          "output_type": "stream",
          "text": [
            "Shape BEFORE dropping highly correlated columns: (1345, 286)\n",
            "\n",
            "Highly correlated columns to drop:\n",
            "- GarageArea\n",
            "- PC_Grvl\n",
            "- PC_Pave\n",
            "- PC_Grvl\n",
            "- PC_Pave\n",
            "- PC_Reg\n",
            "- PC_NoSeWa\n",
            "- PC_Mod\n",
            "- PC_Sev\n",
            "- PC_Somerst\n",
            "- PC_Artery\n",
            "- PC_Feedr\n",
            "- PC_Norm\n",
            "- PC_PosN\n",
            "- PC_RRAe\n",
            "- PC_RRAn\n",
            "- PC_RRNn\n",
            "- PC_Artery\n",
            "- PC_Feedr\n",
            "- PC_Norm\n",
            "- PC_PosN\n",
            "- PC_RRAe\n",
            "- PC_RRAn\n",
            "- PC_RRNn\n",
            "- PC_Hip\n",
            "- PC_Shed\n",
            "- PC_AsbShng\n",
            "- PC_AsphShn\n",
            "- PC_BrkFace\n",
            "- PC_CBlock\n",
            "- PC_HdBoard\n",
            "- PC_ImStucc\n",
            "- PC_MetalSd\n",
            "- PC_Plywood\n",
            "- PC_Stone\n",
            "- PC_Stucco\n",
            "- PC_VinylSd\n",
            "- PC_Wd Sdng\n",
            "- PC_AsbShng\n",
            "- PC_AsphShn\n",
            "- PC_BrkFace\n",
            "- PC_CBlock\n",
            "- PC_CmentBd\n",
            "- PC_HdBoard\n",
            "- PC_ImStucc\n",
            "- PC_MetalSd\n",
            "- PC_Plywood\n",
            "- PC_Stone\n",
            "- PC_Stucco\n",
            "- PC_VinylSd\n",
            "- PC_Wd Sdng\n",
            "- PC_BrkFace\n",
            "- PC_Stone\n",
            "- PC_Ex\n",
            "- PC_Fa\n",
            "- PC_Gd\n",
            "- PC_TA\n",
            "- PC_Ex\n",
            "- PC_Fa\n",
            "- PC_Gd\n",
            "- PC_Po\n",
            "- PC_TA\n",
            "- PC_CBlock\n",
            "- PC_Stone\n",
            "- PC_Ex\n",
            "- PC_Fa\n",
            "- PC_Gd\n",
            "- PC_TA\n",
            "- PC_Fa\n",
            "- PC_Gd\n",
            "- PC_Po\n",
            "- PC_TA\n",
            "- PC_Gd\n",
            "- PC_ALQ\n",
            "- PC_BLQ\n",
            "- PC_GLQ\n",
            "- PC_LwQ\n",
            "- PC_Rec\n",
            "- PC_Unf\n",
            "- PC_ALQ\n",
            "- PC_BLQ\n",
            "- PC_GLQ\n",
            "- PC_LwQ\n",
            "- PC_Rec\n",
            "- PC_Unf\n",
            "- PC_Ex\n",
            "- PC_Fa\n",
            "- PC_Gd\n",
            "- PC_Po\n",
            "- PC_TA\n",
            "- PC_N\n",
            "- PC_Y\n",
            "- PC_SBrkr\n",
            "- PC_Ex\n",
            "- PC_Fa\n",
            "- PC_Gd\n",
            "- PC_TA\n",
            "- PC_Mod\n",
            "- PC_Sev\n",
            "- PC_Ex\n",
            "- PC_Fa\n",
            "- PC_Gd\n",
            "- PC_Po\n",
            "- PC_TA\n",
            "- PC_Unf\n",
            "- PC_Ex\n",
            "- PC_Fa\n",
            "- PC_Gd\n",
            "- PC_Po\n",
            "- PC_TA\n",
            "- PC_Ex\n",
            "- PC_Fa\n",
            "- PC_Gd\n",
            "- PC_Po\n",
            "- PC_TA\n",
            "- PC_N\n",
            "- PC_Y\n",
            "- PC_Ex\n",
            "- PC_Fa\n",
            "- PC_Gd\n",
            "- PC_Gar2\n",
            "- PC_Shed\n",
            "- PC_Partial\n",
            "Shape AFTER dropping highly correlated columns: (1345, 163)\n",
            "\n",
            "Preview of cleaned predictors:\n",
            "         Id  MSSubClass  LotFrontage   LotArea  OverallQual  OverallCond  \\\n",
            "0 -1.743033    0.050876     0.274945 -0.193558     0.909599    -0.536151   \n",
            "1 -1.740665   -0.873827     0.714383 -0.048908     0.086862     2.141285   \n",
            "2 -1.738296    0.050876     0.362833  0.158633     0.909599    -0.536151   \n",
            "3 -1.735927    0.282052     0.128466 -0.055197     0.909599    -0.536151   \n",
            "4 -1.733558    0.050876     0.831566  0.537238     1.732337    -0.536151   \n",
            "\n",
            "   YearBuilt  YearRemodAdd  MasVnrArea  BsmtFinSF1  ...  PC_ConLI  PC_ConLw  \\\n",
            "0   1.136931      0.950494    0.745415    0.732869  ...     False     False   \n",
            "1   0.232611     -0.353912   -0.542062    1.387902  ...     False     False   \n",
            "2   1.069944      0.902183    0.522077    0.203063  ...     False     False   \n",
            "3  -1.810483     -0.643780   -0.542062   -0.447153  ...     False     False   \n",
            "4   1.036451      0.805560    1.757003    0.610050  ...     False     False   \n",
            "\n",
            "   PC_New  PC_Oth  PC_WD  PC_Abnorml  PC_AdjLand  PC_Alloca  PC_Family  \\\n",
            "0   False   False   True       False       False      False      False   \n",
            "1   False   False   True       False       False      False      False   \n",
            "2   False   False   True       False       False      False      False   \n",
            "3   False   False   True        True       False      False      False   \n",
            "4   False   False   True       False       False      False      False   \n",
            "\n",
            "   PC_Normal  \n",
            "0       True  \n",
            "1       True  \n",
            "2       True  \n",
            "3      False  \n",
            "4       True  \n",
            "\n",
            "[5 rows x 163 columns]\n",
            "0\n",
            "\n",
            "Means after standardization (should be ~0):\n",
            "Id             0.000000e+00\n",
            "MSSubClass    -2.641423e-18\n",
            "LotFrontage   -1.320711e-17\n",
            "LotArea        3.962134e-18\n",
            "OverallQual   -1.584854e-17\n",
            "dtype: float64\n",
            "\n",
            "Stds after standardization (should be ~1):\n",
            "Id             1.000372\n",
            "MSSubClass     1.000372\n",
            "LotFrontage    1.000372\n",
            "LotArea        1.000372\n",
            "OverallQual    1.000372\n",
            "dtype: float64\n",
            "\n",
            "Final cleaned predictors shape: (1345, 163)\n"
          ]
        }
      ],
      "source": [
        "# Split predictors and target\n",
        "X = df_filtered.drop(columns=[\"SalePrice\", \"PriceCategory\"])\n",
        "y = df_filtered[\"PriceCategory\"]\n",
        "\n",
        "print(\"Shape BEFORE dropping highly correlated columns:\", X.shape)\n",
        "\n",
        "# Compute correlation matrix\n",
        "corr_matrix = X.corr().abs()\n",
        "upper = corr_matrix.where(np.triu(np.ones(corr_matrix.shape), k=1).astype(bool))\n",
        "\n",
        "# Identify columns to drop\n",
        "to_drop = [column for column in upper.columns if any(upper[column] > 0.85)]\n",
        "\n",
        "print(\"\\nHighly correlated columns to drop:\")\n",
        "for col in to_drop:\n",
        "    print(\"-\", col)\n",
        "\n",
        "# Drop the columns\n",
        "X_reduced = X.drop(columns=to_drop)\n",
        "\n",
        "print(\"Shape AFTER dropping highly correlated columns:\", X_reduced.shape)\n",
        "\n",
        "# Preview cleaned predictors\n",
        "print(\"\\nPreview of cleaned predictors:\")\n",
        "print(X_reduced.head())\n",
        "\n",
        "# Verify again\n",
        "print(df.isnull().sum().sum())  # Should be 0\n",
        "\n",
        "\n",
        "# Standardize\n",
        "from sklearn.preprocessing import StandardScaler\n",
        "\n",
        "scaler = StandardScaler()\n",
        "X_scaled = scaler.fit_transform(X_reduced)\n",
        "\n",
        "# Convert back to DataFrame\n",
        "X_scaled_df = pd.DataFrame(X_scaled, columns=X_reduced.columns)\n",
        "\n",
        "# Confirm means and stds\n",
        "print(\"\\nMeans after standardization (should be ~0):\")\n",
        "print(X_scaled_df.mean().head())\n",
        "\n",
        "print(\"\\nStds after standardization (should be ~1):\")\n",
        "print(X_scaled_df.std().head())\n",
        "\n",
        "print(\"\\nFinal cleaned predictors shape:\", X_scaled_df.shape)\n"
      ]
    },
    {
      "cell_type": "markdown",
      "metadata": {
        "id": "aHLor34YYmit"
      },
      "source": [
        "**Summary of Results:**\n",
        "\n",
        "Shape Before: (1399 rows, 189 columns)\n",
        "*  Initial dataset after one-hot encoding and outlier removal.\n",
        "\n",
        "Computed Correlation Matrix:\n",
        "*  Measured pairwise relationships between predictors to detect multicollinearity.\n",
        "\n",
        "Columns Dropped Due to High Correlation: 13\n",
        "* Removed predictors with >0.85 correlation to avoid redundancy and improve model interpretability.\n",
        "\n",
        "Shape After Dropping Columns: (1399 rows, 176 columns)\n",
        "* Confirmed correct reduction in features.\n",
        "\n",
        "Standardized All Predictors:\n",
        "* Scaled features to mean ≈0 and standard deviation ≈1 to ensure comparability and support model convergence.\n",
        "\n",
        "print(\"Shape AFTER dropping highly correlated columns:\", X_reduced.shape)\n",
        "\n",
        "# Preview cleaned predictors\n",
        "print(\"\\nPreview of cleaned predictors:\")\n",
        "print(X_reduced.head())\n",
        "\n",
        "Outcome:\n",
        "* This cleaned and standardized dataset (X_scaled_df) is ready for regression modeling (Lasso, SVM, etc.) with reduced multicollinearity, balanced scales, and clear feature structure."
      ]
    },
    {
      "cell_type": "markdown",
      "metadata": {
        "id": "MSX-cvTFQ70i"
      },
      "source": [
        "## Feature Selection Using:\n",
        "- Lasso\n",
        "- RFE"
      ]
    },
    {
      "cell_type": "markdown",
      "metadata": {
        "id": "jq5gKkb6_No7"
      },
      "source": [
        "### Lasso (Initial Screening)"
      ]
    },
    {
      "cell_type": "code",
      "execution_count": 479,
      "metadata": {
        "colab": {
          "base_uri": "https://localhost:8080/"
        },
        "id": "baCSgddNs5BH",
        "outputId": "0a1c3bc5-5d6e-4c45-9fb9-c6fd0bbd83bd"
      },
      "outputs": [
        {
          "name": "stdout",
          "output_type": "stream",
          "text": [
            "(1345, 163) (1345,)\n"
          ]
        }
      ],
      "source": [
        "# Step 1: Verify X_scaled_df and y\n",
        "print(X_scaled_df.shape, y.shape)\n",
        "\n",
        "# Import necessary libraries\n",
        "from sklearn.linear_model import LogisticRegression\n",
        "from sklearn.feature_selection import SelectFromModel, RFE\n",
        "from sklearn.ensemble import RandomForestClassifier\n",
        "import matplotlib.pyplot as plt"
      ]
    },
    {
      "cell_type": "code",
      "execution_count": 482,
      "metadata": {
        "id": "oEskofVms8MH"
      },
      "outputs": [],
      "source": [
        "# Lasso Feature Selection (Logistic Regression with L1 regularization)\n",
        "lasso = LogisticRegression(penalty='l1', solver='saga', C=0.1, max_iter=5000, random_state=42)\n",
        "lasso.fit(X_scaled_df, y)\n",
        "\n",
        "lasso_model = SelectFromModel(lasso, prefit=True)\n",
        "lasso_features = X_scaled_df.columns[lasso_model.get_support()]"
      ]
    },
    {
      "cell_type": "markdown",
      "metadata": {
        "id": "FfcGJBc3mkEZ"
      },
      "source": [
        "### Visualization: Coeficients from Lasso\n"
      ]
    },
    {
      "cell_type": "code",
      "execution_count": 483,
      "metadata": {
        "colab": {
          "base_uri": "https://localhost:8080/",
          "height": 607
        },
        "id": "Oc5kL1C3s-3M",
        "outputId": "78980243-d8dc-46ff-9296-2ef6a6481ecb"
      },
      "outputs": [
        {
          "data": {
            "image/png": "[encoded data removed]",
            "text/plain": [
              "<Figure size 1000x600 with 1 Axes>"
            ]
          },
          "metadata": {},
          "output_type": "display_data"
        }
      ],
      "source": [
        "coef_abs = np.abs(lasso.coef_).max(axis=0)\n",
        "lasso_coef_df = pd.Series(coef_abs, index=X_scaled_df.columns).sort_values(ascending=False).head(20)\n",
        "\n",
        "plt.figure(figsize=(10, 6))\n",
        "lasso_coef_df.plot(kind='bar')\n",
        "plt.title('Top 20 Features Selected by Lasso')\n",
        "plt.ylabel('Coefficient Magnitude')\n",
        "plt.tight_layout()\n",
        "plt.show()"
      ]
    },
    {
      "cell_type": "markdown",
      "metadata": {
        "id": "lr223y0mZ2Io"
      },
      "source": [
        "### RFE (Further Refinement)"
      ]
    },
    {
      "cell_type": "code",
      "execution_count": null,
      "metadata": {
        "id": "-bWcy2FNtBtf"
      },
      "outputs": [],
      "source": [
        "# RFE Feature Selection\n",
        "logreg = LogisticRegression(max_iter=5000, random_state=42)\n",
        "rfe = RFE(estimator=logreg, n_features_to_select=20)\n",
        "rfe.fit(X_scaled_df, y)\n",
        "\n",
        "rfe_features = X_scaled_df.columns[rfe.get_support()]"
      ]
    },
    {
      "cell_type": "markdown",
      "metadata": {
        "id": "XQpyvVJQprK6"
      },
      "source": [
        "#### Visualization: RFE Selected Features"
      ]
    },
    {
      "cell_type": "code",
      "execution_count": null,
      "metadata": {
        "id": "kMwdK-JUtEGg"
      },
      "outputs": [],
      "source": [
        "# Visualize RFE rankings\n",
        "rfe_ranking_df = pd.Series(rfe.ranking_, index=X_scaled_df.columns).sort_values().head(20)\n",
        "\n",
        "plt.figure(figsize=(10, 6))\n",
        "rfe_ranking_df.plot(kind='bar')\n",
        "plt.title('Top 20 Features by RFE Ranking (lower is better)')\n",
        "plt.ylabel('Ranking')\n",
        "plt.tight_layout()\n",
        "plt.show()"
      ]
    },
    {
      "cell_type": "markdown",
      "metadata": {
        "id": "qQWpNjUsnOwD"
      },
      "source": [
        "### Further Refinement using Random Forest"
      ]
    },
    {
      "cell_type": "code",
      "execution_count": 376,
      "metadata": {
        "id": "pbNkmTY9tHf8"
      },
      "outputs": [],
      "source": [
        "# Random Forest Feature Selection\n",
        "rf = RandomForestClassifier(n_estimators=100, random_state=42)\n",
        "rf.fit(X_scaled_df, y)\n",
        "\n",
        "rf_importances = pd.Series(rf.feature_importances_, index=X_scaled_df.columns).sort_values(ascending=False).head(20)\n"
      ]
    },
    {
      "cell_type": "markdown",
      "metadata": {
        "id": "XYTzJnPZnbS8"
      },
      "source": [
        "#### Visualization: Feature importance using Random Forest"
      ]
    },
    {
      "cell_type": "code",
      "execution_count": 377,
      "metadata": {
        "colab": {
          "base_uri": "https://localhost:8080/",
          "height": 607
        },
        "id": "-ylFNYoQtJrX",
        "outputId": "ba8c7114-5667-4371-db67-9d97b6400212"
      },
      "outputs": [
        {
          "data": {
            "image/png": "[encoded data removed]",
            "text/plain": [
              "<Figure size 1000x600 with 1 Axes>"
            ]
          },
          "metadata": {},
          "output_type": "display_data"
        }
      ],
      "source": [
        "plt.figure(figsize=(10, 6))\n",
        "rf_importances.plot(kind='bar')\n",
        "plt.title('Top 20 Feature Importances from Random Forest')\n",
        "plt.ylabel('Importance')\n",
        "plt.tight_layout()\n",
        "plt.show()"
      ]
    },
    {
      "cell_type": "markdown",
      "metadata": {
        "id": "HJd_yOVOtLwB"
      },
      "source": [
        "### Combine feature selection results"
      ]
    },
    {
      "cell_type": "code",
      "execution_count": 378,
      "metadata": {
        "colab": {
          "base_uri": "https://localhost:8080/"
        },
        "id": "MpS3dYMHtTw3",
        "outputId": "51788809-5bd5-48f3-c887-cb524d89fcfe"
      },
      "outputs": [
        {
          "name": "stdout",
          "output_type": "stream",
          "text": [
            "Total combined features selected: 25\n",
            "Final selected features: ['OverallQual', 'LotArea', 'YearBuilt', 'OverallCond', 'YearRemodAdd', '1stFlrSF', 'TotalBsmtSF', 'BsmtFinSF1', 'Fireplaces', 'GarageCars', 'GrLivArea', 'Id', 'PC_Normal', 'MasVnrArea', 'KitchenAbvGr', 'FullBath', 'TotRmsAbvGrd', 'GarageYrBlt', 'PC_RM', 'OpenPorchSF', 'PC_Bnk', '2ndFlrSF', 'PC_PConc', 'PC_ClyTile', 'PC_New']\n"
          ]
        }
      ],
      "source": [
        "# Step 2: Combine features from Lasso, RFE, and Random Forest\n",
        "combined_features = pd.concat([pd.Series(lasso_features), pd.Series(rfe_features), pd.Series(rf_importances.index)]).value_counts()\n",
        "\n",
        "# Select features identified by at least two methods\n",
        "final_features = combined_features[combined_features >= 2].index.tolist()\n",
        "\n",
        "print(f'Total combined features selected: {len(final_features)}')\n",
        "print('Final selected features:', final_features)"
      ]
    },
    {
      "cell_type": "markdown",
      "metadata": {
        "id": "3sHBPnAxtl71"
      },
      "source": [
        "#### Visualization: Feature Selection with Combined Results"
      ]
    },
    {
      "cell_type": "code",
      "execution_count": 382,
      "metadata": {
        "colab": {
          "base_uri": "https://localhost:8080/",
          "height": 1000
        },
        "id": "33IyGL7px374",
        "outputId": "dd7b8ab5-263a-4648-e894-61798f925425"
      },
      "outputs": [
        {
          "data": {
            "text/html": [
              "<html>\n",
              "<head><meta charset=\"utf-8\" /></head>\n",
              "<body>\n",
              "    <div>            <script src=\"https://cdnjs.cloudflare.com/ajax/libs/mathjax/2.7.5/MathJax.js?config=TeX-AMS-MML_SVG\"></script><script type=\"text/javascript\">if (window.MathJax && window.MathJax.Hub && window.MathJax.Hub.Config) {window.MathJax.Hub.Config({SVG: {font: \"STIX-Web\"}});}</script>                <script type=\"text/javascript\">window.PlotlyConfig = {MathJaxConfig: 'local'};</script>\n",
              "        <script charset=\"utf-8\" src=\"https://cdn.plot.ly/plotly-2.35.2.min.js\"></script>                <div id=\"41435af1-298e-4629-b7fc-f9b6e4061fe5\" class=\"plotly-graph-div\" style=\"height:1600px; width:900px;\"></div>            <script type=\"text/javascript\">                                    window.PLOTLYENV=window.PLOTLYENV || {};                                    if (document.getElementById(\"41435af1-298e-4629-b7fc-f9b6e4061fe5\")) {                    Plotly.newPlot(                        \"41435af1-298e-4629-b7fc-f9b6e4061fe5\",                        [{\"alignmentgroup\":\"True\",\"hovertemplate\":\"Frequency=%{x}\\u003cbr\\u003eFeature=%{y}\\u003cextra\\u003e\\u003c\\u002fextra\\u003e\",\"legendgroup\":\"\",\"marker\":{\"color\":\"#636efa\",\"pattern\":{\"shape\":\"\"}},\"name\":\"\",\"offsetgroup\":\"\",\"orientation\":\"h\",\"showlegend\":false,\"textposition\":\"auto\",\"x\":[1,1,1,1,1,1,1,1,1,1,1,1,1,1,1,1,1,1,1,1,1,1,1,1,1,1,1,1,1,1,1,1,1,1,1,1,1,1,1,1,1,1,1,1,1,1,1,1,1,1,1,1,1,1,1,1,1,1,1,1,1,1,1,1,1,1,1,1,1,1,1,1,1,1,1,1,1,1,1,1,1,1,1,1,1,1,1,1,1,1,1,1,1,1,1,1,1,1,1,1,1,1,1,1,1,1,1,1,1,1,1,2,2,2,2,2,2,2,2,2,2,2,2,2,2,3,3,3,3,3,3,3,3,3,3,3],\"xaxis\":\"x\",\"y\":[\"MoSold\",\"MSSubClass\",\"BedroomAbvGr\",\"EnclosedPorch\",\"3SsnPorch\",\"MiscVal\",\"HalfBath\",\"PC_MeadowV\",\"PC_Gilbert\",\"PC_Edwards\",\"PC_Crawfor\",\"PC_CollgCr\",\"PC_ClearCr\",\"PC_BrkSide\",\"PC_BrDale\",\"PC_Blmngtn\",\"PC_Gtl\",\"PC_FR3\",\"PC_FR2\",\"PC_CulDSac\",\"PC_AllPub\",\"PC_Low\",\"PC_HLS\",\"PC_IR3\",\"BsmtFullBath\",\"LowQualFinSF\",\"BsmtHalfBath\",\"ScreenPorch\",\"WoodDeckSF\",\"PC_RH\",\"PC_C (all)\",\"YrSold\",\"PC_NWAmes\",\"PC_Mitchel\",\"PC_NAmes\",\"PC_NPkVill\",\"PC_NridgHt\",\"PC_NoRidge\",\"PC_OldTown\",\"PC_WdShngl\",\"PC_TwnhsE\",\"PC_SLvl\",\"PC_2.5Unf\",\"PC_Membran\",\"PC_Mansard\",\"PC_Gambrel\",\"PC_Gable\",\"PC_Flat\",\"PC_Twnhs\",\"PC_1.5Fin\",\"PC_2.5Fin\",\"PC_Veenker\",\"PC_PosA\",\"PC_RRNe\",\"PC_1Fam\",\"PC_Duplex\",\"BsmtFinSF2\",\"PC_IR2\",\"PC_IR1\",\"PC_RL\",\"PC_FV\",\"PC_Timber\",\"PC_Sawyer\",\"PC_SWISU\",\"PC_No\",\"PC_Floor\",\"PC_GasW\",\"PC_Grav\",\"PC_OthW\",\"PC_Metal\",\"PC_Tar&Grv\",\"PC_1.5Unf\",\"PC_FuseP\",\"PC_FuseF\",\"PC_Wall\",\"PC_Maj1\",\"PC_2Types\",\"PC_Maj2\",\"PC_Min2\",\"PC_Typ\",\"PC_CarPort\",\"PC_Detchd\",\"PC_Fin\",\"PC_RFn\",\"PC_P\",\"PC_Attchd\",\"PC_Basment\",\"PC_BuiltIn\",\"PC_MnPrv\",\"PC_BrkComm\",\"PC_WdShing\",\"PC_CemntBd\",\"PC_Wd Shng\",\"PC_BrkCmn\",\"PC_Slab\",\"PC_Mn\",\"PC_CWD\",\"PC_GdWo\",\"PC_GdPrv\",\"PC_MnWw\",\"PC_COD\",\"PC_Con\",\"PC_TenC\",\"PC_ConLw\",\"LotFrontage\",\"BsmtUnfSF\",\"PC_2fmCon\",\"PC_Family\",\"PC_Abnorml\",\"PC_Alloca\",\"PC_ConLI\",\"TotRmsAbvGrd\",\"PC_New\",\"PC_RM\",\"GarageYrBlt\",\"OpenPorchSF\",\"PC_Bnk\",\"2ndFlrSF\",\"PC_PConc\",\"PC_Normal\",\"PC_ClyTile\",\"MasVnrArea\",\"KitchenAbvGr\",\"FullBath\",\"Id\",\"LotArea\",\"OverallQual\",\"YearBuilt\",\"Fireplaces\",\"GrLivArea\",\"GarageCars\",\"YearRemodAdd\",\"OverallCond\",\"BsmtFinSF1\",\"1stFlrSF\",\"TotalBsmtSF\"],\"yaxis\":\"y\",\"type\":\"bar\"}],                        {\"template\":{\"data\":{\"histogram2dcontour\":[{\"type\":\"histogram2dcontour\",\"colorbar\":{\"outlinewidth\":0,\"ticks\":\"\"},\"colorscale\":[[0.0,\"#0d0887\"],[0.1111111111111111,\"#46039f\"],[0.2222222222222222,\"#7201a8\"],[0.3333333333333333,\"#9c179e\"],[0.4444444444444444,\"#bd3786\"],[0.5555555555555556,\"#d8576b\"],[0.6666666666666666,\"#ed7953\"],[0.7777777777777778,\"#fb9f3a\"],[0.8888888888888888,\"#fdca26\"],[1.0,\"#f0f921\"]]}],\"choropleth\":[{\"type\":\"choropleth\",\"colorbar\":{\"outlinewidth\":0,\"ticks\":\"\"}}],\"histogram2d\":[{\"type\":\"histogram2d\",\"colorbar\":{\"outlinewidth\":0,\"ticks\":\"\"},\"colorscale\":[[0.0,\"#0d0887\"],[0.1111111111111111,\"#46039f\"],[0.2222222222222222,\"#7201a8\"],[0.3333333333333333,\"#9c179e\"],[0.4444444444444444,\"#bd3786\"],[0.5555555555555556,\"#d8576b\"],[0.6666666666666666,\"#ed7953\"],[0.7777777777777778,\"#fb9f3a\"],[0.8888888888888888,\"#fdca26\"],[1.0,\"#f0f921\"]]}],\"heatmap\":[{\"type\":\"heatmap\",\"colorbar\":{\"outlinewidth\":0,\"ticks\":\"\"},\"colorscale\":[[0.0,\"#0d0887\"],[0.1111111111111111,\"#46039f\"],[0.2222222222222222,\"#7201a8\"],[0.3333333333333333,\"#9c179e\"],[0.4444444444444444,\"#bd3786\"],[0.5555555555555556,\"#d8576b\"],[0.6666666666666666,\"#ed7953\"],[0.7777777777777778,\"#fb9f3a\"],[0.8888888888888888,\"#fdca26\"],[1.0,\"#f0f921\"]]}],\"heatmapgl\":[{\"type\":\"heatmapgl\",\"colorbar\":{\"outlinewidth\":0,\"ticks\":\"\"},\"colorscale\":[[0.0,\"#0d0887\"],[0.1111111111111111,\"#46039f\"],[0.2222222222222222,\"#7201a8\"],[0.3333333333333333,\"#9c179e\"],[0.4444444444444444,\"#bd3786\"],[0.5555555555555556,\"#d8576b\"],[0.6666666666666666,\"#ed7953\"],[0.7777777777777778,\"#fb9f3a\"],[0.8888888888888888,\"#fdca26\"],[1.0,\"#f0f921\"]]}],\"contourcarpet\":[{\"type\":\"contourcarpet\",\"colorbar\":{\"outlinewidth\":0,\"ticks\":\"\"}}],\"contour\":[{\"type\":\"contour\",\"colorbar\":{\"outlinewidth\":0,\"ticks\":\"\"},\"colorscale\":[[0.0,\"#0d0887\"],[0.1111111111111111,\"#46039f\"],[0.2222222222222222,\"#7201a8\"],[0.3333333333333333,\"#9c179e\"],[0.4444444444444444,\"#bd3786\"],[0.5555555555555556,\"#d8576b\"],[0.6666666666666666,\"#ed7953\"],[0.7777777777777778,\"#fb9f3a\"],[0.8888888888888888,\"#fdca26\"],[1.0,\"#f0f921\"]]}],\"surface\":[{\"type\":\"surface\",\"colorbar\":{\"outlinewidth\":0,\"ticks\":\"\"},\"colorscale\":[[0.0,\"#0d0887\"],[0.1111111111111111,\"#46039f\"],[0.2222222222222222,\"#7201a8\"],[0.3333333333333333,\"#9c179e\"],[0.4444444444444444,\"#bd3786\"],[0.5555555555555556,\"#d8576b\"],[0.6666666666666666,\"#ed7953\"],[0.7777777777777778,\"#fb9f3a\"],[0.8888888888888888,\"#fdca26\"],[1.0,\"#f0f921\"]]}],\"mesh3d\":[{\"type\":\"mesh3d\",\"colorbar\":{\"outlinewidth\":0,\"ticks\":\"\"}}],\"scatter\":[{\"fillpattern\":{\"fillmode\":\"overlay\",\"size\":10,\"solidity\":0.2},\"type\":\"scatter\"}],\"parcoords\":[{\"type\":\"parcoords\",\"line\":{\"colorbar\":{\"outlinewidth\":0,\"ticks\":\"\"}}}],\"scatterpolargl\":[{\"type\":\"scatterpolargl\",\"marker\":{\"colorbar\":{\"outlinewidth\":0,\"ticks\":\"\"}}}],\"bar\":[{\"error_x\":{\"color\":\"#2a3f5f\"},\"error_y\":{\"color\":\"#2a3f5f\"},\"marker\":{\"line\":{\"color\":\"#E5ECF6\",\"width\":0.5},\"pattern\":{\"fillmode\":\"overlay\",\"size\":10,\"solidity\":0.2}},\"type\":\"bar\"}],\"scattergeo\":[{\"type\":\"scattergeo\",\"marker\":{\"colorbar\":{\"outlinewidth\":0,\"ticks\":\"\"}}}],\"scatterpolar\":[{\"type\":\"scatterpolar\",\"marker\":{\"colorbar\":{\"outlinewidth\":0,\"ticks\":\"\"}}}],\"histogram\":[{\"marker\":{\"pattern\":{\"fillmode\":\"overlay\",\"size\":10,\"solidity\":0.2}},\"type\":\"histogram\"}],\"scattergl\":[{\"type\":\"scattergl\",\"marker\":{\"colorbar\":{\"outlinewidth\":0,\"ticks\":\"\"}}}],\"scatter3d\":[{\"type\":\"scatter3d\",\"line\":{\"colorbar\":{\"outlinewidth\":0,\"ticks\":\"\"}},\"marker\":{\"colorbar\":{\"outlinewidth\":0,\"ticks\":\"\"}}}],\"scattermapbox\":[{\"type\":\"scattermapbox\",\"marker\":{\"colorbar\":{\"outlinewidth\":0,\"ticks\":\"\"}}}],\"scatterternary\":[{\"type\":\"scatterternary\",\"marker\":{\"colorbar\":{\"outlinewidth\":0,\"ticks\":\"\"}}}],\"scattercarpet\":[{\"type\":\"scattercarpet\",\"marker\":{\"colorbar\":{\"outlinewidth\":0,\"ticks\":\"\"}}}],\"carpet\":[{\"aaxis\":{\"endlinecolor\":\"#2a3f5f\",\"gridcolor\":\"white\",\"linecolor\":\"white\",\"minorgridcolor\":\"white\",\"startlinecolor\":\"#2a3f5f\"},\"baxis\":{\"endlinecolor\":\"#2a3f5f\",\"gridcolor\":\"white\",\"linecolor\":\"white\",\"minorgridcolor\":\"white\",\"startlinecolor\":\"#2a3f5f\"},\"type\":\"carpet\"}],\"table\":[{\"cells\":{\"fill\":{\"color\":\"#EBF0F8\"},\"line\":{\"color\":\"white\"}},\"header\":{\"fill\":{\"color\":\"#C8D4E3\"},\"line\":{\"color\":\"white\"}},\"type\":\"table\"}],\"barpolar\":[{\"marker\":{\"line\":{\"color\":\"#E5ECF6\",\"width\":0.5},\"pattern\":{\"fillmode\":\"overlay\",\"size\":10,\"solidity\":0.2}},\"type\":\"barpolar\"}],\"pie\":[{\"automargin\":true,\"type\":\"pie\"}]},\"layout\":{\"autotypenumbers\":\"strict\",\"colorway\":[\"#636efa\",\"#EF553B\",\"#00cc96\",\"#ab63fa\",\"#FFA15A\",\"#19d3f3\",\"#FF6692\",\"#B6E880\",\"#FF97FF\",\"#FECB52\"],\"font\":{\"color\":\"#2a3f5f\"},\"hovermode\":\"closest\",\"hoverlabel\":{\"align\":\"left\"},\"paper_bgcolor\":\"white\",\"plot_bgcolor\":\"#E5ECF6\",\"polar\":{\"bgcolor\":\"#E5ECF6\",\"angularaxis\":{\"gridcolor\":\"white\",\"linecolor\":\"white\",\"ticks\":\"\"},\"radialaxis\":{\"gridcolor\":\"white\",\"linecolor\":\"white\",\"ticks\":\"\"}},\"ternary\":{\"bgcolor\":\"#E5ECF6\",\"aaxis\":{\"gridcolor\":\"white\",\"linecolor\":\"white\",\"ticks\":\"\"},\"baxis\":{\"gridcolor\":\"white\",\"linecolor\":\"white\",\"ticks\":\"\"},\"caxis\":{\"gridcolor\":\"white\",\"linecolor\":\"white\",\"ticks\":\"\"}},\"coloraxis\":{\"colorbar\":{\"outlinewidth\":0,\"ticks\":\"\"}},\"colorscale\":{\"sequential\":[[0.0,\"#0d0887\"],[0.1111111111111111,\"#46039f\"],[0.2222222222222222,\"#7201a8\"],[0.3333333333333333,\"#9c179e\"],[0.4444444444444444,\"#bd3786\"],[0.5555555555555556,\"#d8576b\"],[0.6666666666666666,\"#ed7953\"],[0.7777777777777778,\"#fb9f3a\"],[0.8888888888888888,\"#fdca26\"],[1.0,\"#f0f921\"]],\"sequentialminus\":[[0.0,\"#0d0887\"],[0.1111111111111111,\"#46039f\"],[0.2222222222222222,\"#7201a8\"],[0.3333333333333333,\"#9c179e\"],[0.4444444444444444,\"#bd3786\"],[0.5555555555555556,\"#d8576b\"],[0.6666666666666666,\"#ed7953\"],[0.7777777777777778,\"#fb9f3a\"],[0.8888888888888888,\"#fdca26\"],[1.0,\"#f0f921\"]],\"diverging\":[[0,\"#8e0152\"],[0.1,\"#c51b7d\"],[0.2,\"#de77ae\"],[0.3,\"#f1b6da\"],[0.4,\"#fde0ef\"],[0.5,\"#f7f7f7\"],[0.6,\"#e6f5d0\"],[0.7,\"#b8e186\"],[0.8,\"#7fbc41\"],[0.9,\"#4d9221\"],[1,\"#276419\"]]},\"xaxis\":{\"gridcolor\":\"white\",\"linecolor\":\"white\",\"ticks\":\"\",\"title\":{\"standoff\":15},\"zerolinecolor\":\"white\",\"automargin\":true,\"zerolinewidth\":2},\"yaxis\":{\"gridcolor\":\"white\",\"linecolor\":\"white\",\"ticks\":\"\",\"title\":{\"standoff\":15},\"zerolinecolor\":\"white\",\"automargin\":true,\"zerolinewidth\":2},\"scene\":{\"xaxis\":{\"backgroundcolor\":\"#E5ECF6\",\"gridcolor\":\"white\",\"linecolor\":\"white\",\"showbackground\":true,\"ticks\":\"\",\"zerolinecolor\":\"white\",\"gridwidth\":2},\"yaxis\":{\"backgroundcolor\":\"#E5ECF6\",\"gridcolor\":\"white\",\"linecolor\":\"white\",\"showbackground\":true,\"ticks\":\"\",\"zerolinecolor\":\"white\",\"gridwidth\":2},\"zaxis\":{\"backgroundcolor\":\"#E5ECF6\",\"gridcolor\":\"white\",\"linecolor\":\"white\",\"showbackground\":true,\"ticks\":\"\",\"zerolinecolor\":\"white\",\"gridwidth\":2}},\"shapedefaults\":{\"line\":{\"color\":\"#2a3f5f\"}},\"annotationdefaults\":{\"arrowcolor\":\"#2a3f5f\",\"arrowhead\":0,\"arrowwidth\":1},\"geo\":{\"bgcolor\":\"white\",\"landcolor\":\"#E5ECF6\",\"subunitcolor\":\"white\",\"showland\":true,\"showlakes\":true,\"lakecolor\":\"white\"},\"title\":{\"x\":0.05},\"mapbox\":{\"style\":\"light\"}}},\"xaxis\":{\"anchor\":\"y\",\"domain\":[0.0,1.0],\"title\":{\"text\":\"Selection Frequency\"}},\"yaxis\":{\"anchor\":\"x\",\"domain\":[0.0,1.0],\"title\":{\"text\":\"Feature\"},\"tickfont\":{\"size\":10}},\"legend\":{\"tracegroupgap\":0},\"title\":{\"text\":\"Frequency of Features Selected by Lasso, RFE, and Random Forest\"},\"barmode\":\"relative\",\"height\":1600,\"width\":900,\"margin\":{\"l\":200,\"r\":20,\"t\":50,\"b\":20}},                        {\"responsive\": true}                    ).then(function(){\n",
              "                            \n",
              "var gd = document.getElementById('41435af1-298e-4629-b7fc-f9b6e4061fe5');\n",
              "var x = new MutationObserver(function (mutations, observer) {{\n",
              "        var display = window.getComputedStyle(gd).display;\n",
              "        if (!display || display === 'none') {{\n",
              "            console.log([gd, 'removed!']);\n",
              "            Plotly.purge(gd);\n",
              "            observer.disconnect();\n",
              "        }}\n",
              "}});\n",
              "\n",
              "// Listen for the removal of the full notebook cells\n",
              "var notebookContainer = gd.closest('#notebook-container');\n",
              "if (notebookContainer) {{\n",
              "    x.observe(notebookContainer, {childList: true});\n",
              "}}\n",
              "\n",
              "// Listen for the clearing of the current output cell\n",
              "var outputEl = gd.closest('.output');\n",
              "if (outputEl) {{\n",
              "    x.observe(outputEl, {childList: true});\n",
              "}}\n",
              "\n",
              "                        })                };                            </script>        </div>\n",
              "</body>\n",
              "</html>"
            ]
          },
          "metadata": {},
          "output_type": "display_data"
        }
      ],
      "source": [
        "import plotly.express as px\n",
        "import pandas as pd\n",
        "\n",
        "# Convert the Series to DataFrame for Plotly\n",
        "combined_features_df = combined_features.reset_index()\n",
        "combined_features_df.columns = ['Feature', 'Frequency']\n",
        "combined_features_df = combined_features_df.sort_values(by='Frequency', ascending=True)\n",
        "\n",
        "# Plot using Plotly\n",
        "fig = px.bar(\n",
        "    combined_features_df,\n",
        "    x='Frequency',\n",
        "    y='Feature',\n",
        "    orientation='h',\n",
        "    title='Frequency of Features Selected by Lasso, RFE, and Random Forest',\n",
        "    height=1600,  # Increase height for vertical scroll space\n",
        "    width=900\n",
        ")\n",
        "\n",
        "fig.update_layout(\n",
        "    yaxis=dict(\n",
        "        tickfont=dict(size=10),\n",
        "    ),\n",
        "    xaxis=dict(title='Selection Frequency'),\n",
        "    margin=dict(l=200, r=20, t=50, b=20)\n",
        ")\n",
        "\n",
        "fig.show()"
      ]
    },
    {
      "cell_type": "markdown",
      "metadata": {
        "id": "MURDlu7Jtz6F"
      },
      "source": [
        "### Refine DataFrame with Feature Selection"
      ]
    },
    {
      "cell_type": "code",
      "execution_count": 383,
      "metadata": {
        "id": "dQbTQUsQt9Qh"
      },
      "outputs": [],
      "source": [
        "# Step 3: Refine dataframe to include only selected features for SVM RBF\n",
        "X_final = X_scaled_df[final_features]"
      ]
    }
  ],
  "metadata": {
    "colab": {
      "provenance": []
    },
    "kernelspec": {
      "display_name": "Python 3",
      "name": "python3"
    },
    "language_info": {
      "name": "python"
    }
  },
  "nbformat": 4,
  "nbformat_minor": 0
}
